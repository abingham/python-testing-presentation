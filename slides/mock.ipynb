{
 "cells": [
  {
   "cell_type": "code",
   "execution_count": 59,
   "metadata": {
    "collapsed": false,
    "init_cell": true,
    "slideshow": {
     "slide_type": "skip"
    }
   },
   "outputs": [
    {
     "data": {
      "text/html": [
       "<link rel=\"stylesheet\" type=\"text/css\" href=\"theme/sixty_north.css\">"
      ],
      "text/plain": [
       "<IPython.core.display.HTML object>"
      ]
     },
     "metadata": {},
     "output_type": "display_data"
    }
   ],
   "source": [
    "%%html\n",
    "<link rel=\"stylesheet\" type=\"text/css\" href=\"theme/sixty_north.css\">"
   ]
  },
  {
   "cell_type": "markdown",
   "metadata": {
    "ein.tags": [
     "worksheet-0"
    ],
    "slideshow": {
     "slide_type": "slide"
    }
   },
   "source": [
    "# `unittest.mock`\n",
    "## Test how objects are used\n",
    "\n",
    "Main documentation\n",
    ">  [docs.python.org/3/library/unittest.mock.html](https://docs.python.org/3/library/unittest.mock.html)\n",
    "\n",
    "Getting Started\n",
    "> [docs.python.org/3/library/unittest.mock-examples.html](https://docs.python.org/3/library/unittest.mock-examples.html)"
   ]
  },
  {
   "cell_type": "markdown",
   "metadata": {
    "slideshow": {
     "slide_type": "slide"
    }
   },
   "source": [
    "# Two main aspects\n",
    "\n",
    "### Mocking\n",
    "Instances of *`Mock`* can be used in place of other objects, and they keep track of how they're used.\n",
    "\n",
    "### Patching\n",
    "The *`patch()`* functions help you (temporarily) replace existing objects with `Mock`s."
   ]
  },
  {
   "cell_type": "markdown",
   "metadata": {
    "ein.tags": [
     "worksheet-0"
    ],
    "slideshow": {
     "slide_type": "slide"
    }
   },
   "source": [
    "# `unittest.mock.Mock`\n",
    "## Testable replacements for other objects\n",
    "\n",
    "* Creates attributes on access\n",
    "* Simulates callable and non-callable objects\n",
    "* Records how it is used"
   ]
  },
  {
   "cell_type": "code",
   "execution_count": 64,
   "metadata": {
    "collapsed": false,
    "slideshow": {
     "slide_type": "subslide"
    }
   },
   "outputs": [
    {
     "data": {
      "text/plain": [
       "<Mock id='4553735192'>"
      ]
     },
     "execution_count": 64,
     "metadata": {},
     "output_type": "execute_result"
    }
   ],
   "source": [
    "from unittest.mock import call, Mock\n",
    "\n",
    "# accessing mocks creates new mocks by default\n",
    "m = Mock()\n",
    "m\n",
    "# m()\n",
    "# m.foo\n",
    "# m.foo()"
   ]
  },
  {
   "cell_type": "markdown",
   "metadata": {
    "slideshow": {
     "slide_type": "slide"
    }
   },
   "source": [
    "# Return values for `Mock`s\n",
    "\n",
    "You can specify a return value in two ways, with an initializer argument:\n",
    "\n",
    "```python\n",
    "m = Mock(return_value=...)\n",
    "```\n",
    "or by setting an attribute:\n",
    "```python\n",
    "m.return_value = ...\n",
    "```"
   ]
  },
  {
   "cell_type": "code",
   "execution_count": 65,
   "metadata": {
    "collapsed": false,
    "slideshow": {
     "slide_type": "fragment"
    }
   },
   "outputs": [
    {
     "data": {
      "text/plain": [
       "42"
      ]
     },
     "execution_count": 65,
     "metadata": {},
     "output_type": "execute_result"
    }
   ],
   "source": [
    "m = Mock(return_value=42)\n",
    "m()"
   ]
  },
  {
   "cell_type": "code",
   "execution_count": 66,
   "metadata": {
    "collapsed": false,
    "slideshow": {
     "slide_type": "fragment"
    }
   },
   "outputs": [
    {
     "data": {
      "text/plain": [
       "\"'I don't know what I was expecting.' -- Michael Bloom\""
      ]
     },
     "execution_count": 66,
     "metadata": {},
     "output_type": "execute_result"
    }
   ],
   "source": [
    "m.return_value = \"'I don't know what I was expecting.' -- Michael Bloom\"\n",
    "m()"
   ]
  },
  {
   "cell_type": "markdown",
   "metadata": {
    "slideshow": {
     "slide_type": "slide"
    }
   },
   "source": [
    "# Side-effects for `Mocks`\n",
    "## An object determing how a `Mock` behaves when called\n",
    "\n",
    "Specify a side-effect via an initializer argument:\n",
    "```python\n",
    "m = Mock(side_effect=...)\n",
    "```\n",
    "or by setting an attribute:\n",
    "```python\n",
    "m.side_effect = ...\n",
    "```"
   ]
  },
  {
   "cell_type": "markdown",
   "metadata": {
    "slideshow": {
     "slide_type": "slide"
    }
   },
   "source": [
    "# Callable side-effects\n",
    "## Return value of callable is return value of calling the mock"
   ]
  },
  {
   "cell_type": "code",
   "execution_count": 71,
   "metadata": {
    "collapsed": false,
    "slideshow": {
     "slide_type": "-"
    }
   },
   "outputs": [
    {
     "data": {
      "text/plain": [
       "3"
      ]
     },
     "execution_count": 71,
     "metadata": {},
     "output_type": "execute_result"
    }
   ],
   "source": [
    "# Callable side-effects produce the Mock's return value\n",
    "def add(x, y):\n",
    "    return x + y\n",
    "\n",
    "m = Mock(side_effect=add)\n",
    "m(1, 2)\n",
    "# m(\"ambi\", \"dextrous\")\n",
    "# m(1, 2, 3) # must follow arity-rules!"
   ]
  },
  {
   "cell_type": "markdown",
   "metadata": {
    "slideshow": {
     "slide_type": "slide"
    }
   },
   "source": [
    "# Exception side-effects\n",
    "## Exception instances and classes cause a throw when the mock is called"
   ]
  },
  {
   "cell_type": "code",
   "execution_count": 72,
   "metadata": {
    "collapsed": false,
    "slideshow": {
     "slide_type": "-"
    }
   },
   "outputs": [
    {
     "name": "stdout",
     "output_type": "stream",
     "text": [
      "exception raised!\n"
     ]
    }
   ],
   "source": [
    "# An exception type creates a new instance for each call\n",
    "m = Mock(side_effect=ValueError)\n",
    "try:  \n",
    "      m()\n",
    "except ValueError:\n",
    "    print('exception raised!')"
   ]
  },
  {
   "cell_type": "code",
   "execution_count": 74,
   "metadata": {
    "collapsed": false,
    "slideshow": {
     "slide_type": "fragment"
    }
   },
   "outputs": [],
   "source": [
    "# An exception instance uses the same instance for each call\n",
    "m.side_effect = ValueError(\"oops!\")\n",
    "try: \n",
    "    m()\n",
    "except ValueError as e:\n",
    "    assert e.args[0] == \"oops!\""
   ]
  },
  {
   "cell_type": "markdown",
   "metadata": {
    "slideshow": {
     "slide_type": "slide"
    }
   },
   "source": [
    "# Iterable side-effects\n",
    "## The iterable's values are the consecutive return values of the mock"
   ]
  },
  {
   "cell_type": "code",
   "execution_count": 75,
   "metadata": {
    "collapsed": false,
    "slideshow": {
     "slide_type": "-"
    }
   },
   "outputs": [
    {
     "data": {
      "text/plain": [
       "(1, 2, 3)"
      ]
     },
     "execution_count": 75,
     "metadata": {},
     "output_type": "execute_result"
    }
   ],
   "source": [
    "m = Mock(side_effect=[1,2,3])\n",
    "m(), m(), m()"
   ]
  },
  {
   "cell_type": "markdown",
   "metadata": {
    "slideshow": {
     "slide_type": "slide"
    }
   },
   "source": [
    "#  `Mock` remembers how it is used\n",
    "## This is the core of how `Mock` can be tested\n",
    "\n",
    "* Determine if and/or how many times it was called\n",
    "* See the arguments used when it is called"
   ]
  },
  {
   "cell_type": "code",
   "execution_count": 80,
   "metadata": {
    "collapsed": false,
    "slideshow": {
     "slide_type": "-"
    }
   },
   "outputs": [
    {
     "data": {
      "text/plain": [
       "'Called? True. Call count = 1.'"
      ]
     },
     "execution_count": 80,
     "metadata": {},
     "output_type": "execute_result"
    }
   ],
   "source": [
    "m = Mock()\n",
    "m()\n",
    "\"Called? {}. Call count = {}.\".format(\n",
    "    m.called,\n",
    "    m.call_count)"
   ]
  },
  {
   "cell_type": "markdown",
   "metadata": {
    "slideshow": {
     "slide_type": "slide"
    }
   },
   "source": [
    "###  `call_args` and `call_args_list` track the arguments to `Mock` calls"
   ]
  },
  {
   "cell_type": "code",
   "execution_count": 83,
   "metadata": {
    "collapsed": false,
    "slideshow": {
     "slide_type": "-"
    }
   },
   "outputs": [
    {
     "data": {
      "text/plain": [
       "call('This', 'that', last='the other')"
      ]
     },
     "execution_count": 83,
     "metadata": {},
     "output_type": "execute_result"
    }
   ],
   "source": [
    "# `call_args` get the *last* argument set. \n",
    "# `call_args_list` gets all of them.\n",
    "m = Mock()\n",
    "m(1,2,3)\n",
    "m(\"This\", \"that\", last=\"the other\")\n",
    "m.call_args\n",
    "# m.call_args_list"
   ]
  },
  {
   "cell_type": "markdown",
   "metadata": {
    "slideshow": {
     "slide_type": "slide"
    }
   },
   "source": [
    "### `method_calls` tracks calls to methods (and methods on methods!) on the `Mock`"
   ]
  },
  {
   "cell_type": "code",
   "execution_count": 84,
   "metadata": {
    "collapsed": false,
    "slideshow": {
     "slide_type": "-"
    }
   },
   "outputs": [
    {
     "data": {
      "text/plain": [
       "[call.some_method(), call.what.about.demeter('?!')]"
      ]
     },
     "execution_count": 84,
     "metadata": {},
     "output_type": "execute_result"
    }
   ],
   "source": [
    "m = Mock()\n",
    "m() # This is *not* reported in `method_calls`\n",
    "m.some_method()\n",
    "m.what.about.demeter(\"?!\")\n",
    "m.method_calls"
   ]
  },
  {
   "cell_type": "markdown",
   "metadata": {
    "slideshow": {
     "slide_type": "slide"
    }
   },
   "source": [
    "### `mock_calls` tracks everything"
   ]
  },
  {
   "cell_type": "code",
   "execution_count": 85,
   "metadata": {
    "collapsed": false,
    "slideshow": {
     "slide_type": "-"
    }
   },
   "outputs": [
    {
     "data": {
      "text/plain": [
       "[call(1337), call.attr(''), call.deep(1), call.deep().linking(2)]"
      ]
     },
     "execution_count": 85,
     "metadata": {},
     "output_type": "execute_result"
    }
   ],
   "source": [
    "m = Mock()\n",
    "# `mock_calls` tracks...\n",
    "m(1337)              # ...calls to the Mock\n",
    "m.attr(\"\")           # ...calls to attributes of the Mock\n",
    "m.deep(1).linking(2) # ...Call to the results of calls to attributes \n",
    "m.mock_calls"
   ]
  },
  {
   "cell_type": "markdown",
   "metadata": {
    "slideshow": {
     "slide_type": "slide"
    }
   },
   "source": [
    "# Assert on how a `Mock` is used\n",
    "## `Mock` has methods for checking how it was accessed and called\n",
    "\n",
    "* Was it called?\n",
    "* Was it called with specific arguments?\n",
    "* Does it have a specific call sequence?"
   ]
  },
  {
   "cell_type": "markdown",
   "metadata": {
    "slideshow": {
     "slide_type": "slide"
    }
   },
   "source": [
    "### Checking arguments"
   ]
  },
  {
   "cell_type": "code",
   "execution_count": 88,
   "metadata": {
    "collapsed": false,
    "slideshow": {
     "slide_type": "-"
    }
   },
   "outputs": [],
   "source": [
    "m = Mock()\n",
    "\n",
    "# Was there only one call with exactly these arguments?\n",
    "m(beta='b', alpha='a')\n",
    "m.assert_called_once_with(alpha='a', beta='b')\n",
    "\n",
    "# Did the most recent call have these arguments?\n",
    "m(1,2, opt=3)\n",
    "m.assert_called_with(1,2, opt=3)\n"
   ]
  },
  {
   "cell_type": "markdown",
   "metadata": {
    "slideshow": {
     "slide_type": "slide"
    }
   },
   "source": [
    "### Checking call chains"
   ]
  },
  {
   "cell_type": "code",
   "execution_count": 91,
   "metadata": {
    "collapsed": false,
    "slideshow": {
     "slide_type": "-"
    }
   },
   "outputs": [],
   "source": [
    "m = Mock()\n",
    "m('pelagic')\n",
    "m('argosy')\n",
    "m('sights')\n",
    "m('land')\n",
    "\n",
    "# Check a specific sequence of calls\n",
    "m.assert_has_calls(call(s) for s in ['pelagic', 'argosy', \n",
    "                                     'sights', 'land'])\n",
    "\n",
    "# Check if *any* call had these arguments\n",
    "m.assert_any_call('argosy')"
   ]
  }
 ],
 "metadata": {
  "celltoolbar": "Slideshow",
  "kernelspec": {
   "display_name": "Python 3",
   "language": "python",
   "name": "python3"
  },
  "language_info": {
   "codemirror_mode": {
    "name": "ipython",
    "version": 3
   },
   "file_extension": ".py",
   "mimetype": "text/x-python",
   "name": "python",
   "nbconvert_exporter": "python",
   "pygments_lexer": "ipython3",
   "version": "3.5.0"
  },
  "livereveal": {
   "start_slideshow_at": "selected",
   "theme": "simple",
   "transition": "slide"
  },
  "name": "mock.ipynb"
 },
 "nbformat": 4,
 "nbformat_minor": 1
}
