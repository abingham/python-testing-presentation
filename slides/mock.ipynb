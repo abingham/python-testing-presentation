{
 "cells": [
  {
   "cell_type": "code",
   "execution_count": null,
   "metadata": {
    "collapsed": false
   },
   "outputs": [],
   "source": [
    "%%html\n",
    "<link rel=\"stylesheet\" type=\"text/css\" href=\"theme/sixty_north.css\">"
   ]
  },
  {
   "cell_type": "markdown",
   "metadata": {
    "ein.tags": [
     "worksheet-0"
    ],
    "slideshow": {
     "slide_type": "slide"
    }
   },
   "source": [
    "# `unittest.mock`\n",
    "**Test how objects are used**\n",
    "\n",
    "|                    |               Links                                           |\n",
    "|--------------------|---------------------------------------------------------------|\n",
    "| Main documentation | https://docs.python.org/3/library/unittest.mock.html          |\n",
    "| Getting started    | https://docs.python.org/3/library/unittest.mock-examples.html |"
   ]
  },
  {
   "cell_type": "markdown",
   "metadata": {
    "slideshow": {
     "slide_type": "slide"
    }
   },
   "source": [
    "## Two main aspects\n",
    "\n",
    "### Mocking\n",
    "Instances of *`Mock`* can be used in place of other objects, and they keep track of how they're used.\n",
    "\n",
    "### Patching\n",
    "The *`patch()`* functions help you (temporarily) replace existing objects with `Mock`s."
   ]
  },
  {
   "cell_type": "markdown",
   "metadata": {
    "ein.tags": [
     "worksheet-0"
    ],
    "slideshow": {
     "slide_type": "skip"
    }
   },
   "source": [
    "* Basic idea \"It allows you to replace parts of your system under test with mock objects and make assertions about how they have been used.\"\n",
    "* Mock class / MagicMock class \n",
    "                  \"MagicMock is a subclass of Mock with default implementations of most of the magic methods.\"\n",
    "    * Create attributes as they are accessed\n",
    "    * Specify return values, limitations, etc.\n",
    "    * record details of how they're used\n",
    "                  * called, call_count, call-args, call_args_list, method_calls, mock-calls\n",
    "    * Assert about how they're used\n",
    "                  * various assertions\n",
    "    * side_effect: TODO\n",
    "                  * callable\n",
    "                  * list\n",
    "                  * exception class or instance\n",
    "    * return value\n",
    "    * name\n",
    "    * spec: TODO\n",
    "    * reset ,add_spec, configure_mock,\n",
    "    * non-callable versions\n",
    "    * child-parent relationship / mock as attributes of mocks\n",
    "                  * naming vs. not naming mock attributes\n",
    "    \n",
    "* patch():\n",
    "                  * class decorator\n",
    "                  * function decorator\n",
    "                  * context manager\n",
    "                  * patching `TestCase` subclasses\n",
    "* patch.object\n",
    "* patch.dict: TODO\n",
    "* autospeccing, create_autospec\n",
    "* patch() and Mock() take arbitrary keywords\n",
    "* mock_open"
   ]
  },
  {
   "cell_type": "markdown",
   "metadata": {
    "ein.tags": [
     "worksheet-0"
    ],
    "slideshow": {
     "slide_type": "slide"
    }
   },
   "source": [
    "# `unittest.mock.Mock`\n",
    "*Testable replacements for other objects*\n",
    "\n",
    "* Creates attributes on access\n",
    "* Simulates callable and non-callable objects\n",
    "* Records how it is used"
   ]
  },
  {
   "cell_type": "code",
   "execution_count": null,
   "metadata": {
    "collapsed": false,
    "slideshow": {
     "slide_type": "subslide"
    }
   },
   "outputs": [],
   "source": [
    "from unittest.mock import call, Mock\n",
    "\n",
    "# accessing mocks creates new mocks by default\n",
    "m = Mock()\n",
    "m\n",
    "# m()\n",
    "# m.foo\n",
    "# m.foo()"
   ]
  },
  {
   "cell_type": "markdown",
   "metadata": {
    "slideshow": {
     "slide_type": "slide"
    }
   },
   "source": [
    "## Return values for `Mock`s\n",
    "\n",
    "You can specify a return value in two ways, with an initializer argument:\n",
    "\n",
    "```python\n",
    "m = Mock(return_value=...)\n",
    "```\n",
    "or by setting an attribute:\n",
    "```python\n",
    "m.return_value = ...\n",
    "```"
   ]
  },
  {
   "cell_type": "code",
   "execution_count": null,
   "metadata": {
    "collapsed": false,
    "slideshow": {
     "slide_type": "fragment"
    }
   },
   "outputs": [],
   "source": [
    "m = Mock(return_value=42)\n",
    "m()"
   ]
  },
  {
   "cell_type": "code",
   "execution_count": null,
   "metadata": {
    "collapsed": false,
    "slideshow": {
     "slide_type": "fragment"
    }
   },
   "outputs": [],
   "source": [
    "m.return_value = \"'I don't know what I was expecting.' -- Michael Bloom\"\n",
    "m()"
   ]
  },
  {
   "cell_type": "markdown",
   "metadata": {
    "slideshow": {
     "slide_type": "slide"
    }
   },
   "source": [
    "## Side-effects for `Mocks`\n",
    "*An object determing how a `Mock` behaves when called*\n",
    "\n",
    "Specify a side-effect via an initializer argument:\n",
    "```python\n",
    "m = Mock(side_effect=...)\n",
    "```\n",
    "or by setting an attribute:\n",
    "```python\n",
    "m.side_effect = ...\n",
    "```"
   ]
  },
  {
   "cell_type": "markdown",
   "metadata": {
    "slideshow": {
     "slide_type": "slide"
    }
   },
   "source": [
    "### Callable side-effects\n",
    "*Return value of callable is return value of calling the mock*"
   ]
  },
  {
   "cell_type": "code",
   "execution_count": null,
   "metadata": {
    "collapsed": false,
    "slideshow": {
     "slide_type": "fragment"
    }
   },
   "outputs": [],
   "source": [
    "# Callable side-effects produce the Mock's return value\n",
    "def add(x, y):\n",
    "    return x + y\n",
    "\n",
    "m = Mock(side_effect=add)\n",
    "m(1, 2)\n",
    "m(\"ambi\", \"dextrous\")"
   ]
  },
  {
   "cell_type": "markdown",
   "metadata": {
    "slideshow": {
     "slide_type": "slide"
    }
   },
   "source": [
    "### The side-effect must follow arity rules, etc."
   ]
  },
  {
   "cell_type": "code",
   "execution_count": null,
   "metadata": {
    "collapsed": false,
    "slideshow": {
     "slide_type": "fragment"
    }
   },
   "outputs": [],
   "source": [
    "m(1,2,3)   "
   ]
  },
  {
   "cell_type": "markdown",
   "metadata": {
    "slideshow": {
     "slide_type": "slide"
    }
   },
   "source": [
    "### Exception side-effects\n",
    "*Exception instances and classes cause a throw when the mock is called*"
   ]
  },
  {
   "cell_type": "code",
   "execution_count": null,
   "metadata": {
    "collapsed": false,
    "slideshow": {
     "slide_type": "fragment"
    }
   },
   "outputs": [],
   "source": [
    "# An exception type creates a new instance for each call\n",
    "m = Mock(side_effect=ValueError)\n",
    "try:\n",
    "    m()\n",
    "except ValueError:\n",
    "    print('exception raised!')"
   ]
  },
  {
   "cell_type": "code",
   "execution_count": null,
   "metadata": {
    "collapsed": false,
    "slideshow": {
     "slide_type": "fragment"
    }
   },
   "outputs": [],
   "source": [
    "# An exception instance uses the same instance for each call\n",
    "m.side_effect = ValueError(\"oops!\")\n",
    "try:\n",
    "    m()\n",
    "except ValueError as e:\n",
    "    assert e.args[0] == \"oops!\""
   ]
  },
  {
   "cell_type": "markdown",
   "metadata": {
    "slideshow": {
     "slide_type": "slide"
    }
   },
   "source": [
    "### Iterable side-effects\n",
    "*The iterable's values are the consecutive return values of the mock*"
   ]
  },
  {
   "cell_type": "code",
   "execution_count": null,
   "metadata": {
    "collapsed": false,
    "slideshow": {
     "slide_type": "fragment"
    }
   },
   "outputs": [],
   "source": [
    "m = Mock(side_effect=[1,2,3])\n",
    "m(), m(), m()"
   ]
  },
  {
   "cell_type": "markdown",
   "metadata": {
    "slideshow": {
     "slide_type": "slide"
    }
   },
   "source": [
    "##  `Mock` remembers how it is used\n",
    "*This is the core of how `Mock` can be tested*\n",
    "\n",
    "* Determine if and/or how many times it was called\n",
    "* See the arguments used when it is called"
   ]
  },
  {
   "cell_type": "code",
   "execution_count": null,
   "metadata": {
    "collapsed": false,
    "slideshow": {
     "slide_type": "fragment"
    }
   },
   "outputs": [],
   "source": [
    "m = Mock()\n",
    "m()\n",
    "\"Called? {}. Call count = {}.\".format(\n",
    "    m.called,\n",
    "    m.call_count)"
   ]
  },
  {
   "cell_type": "markdown",
   "metadata": {
    "slideshow": {
     "slide_type": "slide"
    }
   },
   "source": [
    "###  `call_args` and `call_args_list` track the arguments to `Mock` calls"
   ]
  },
  {
   "cell_type": "code",
   "execution_count": null,
   "metadata": {
    "collapsed": false,
    "slideshow": {
     "slide_type": "fragment"
    }
   },
   "outputs": [],
   "source": [
    "# `call_args` get the *last* argument set. `call_args_list` gets all of them.\n",
    "m = Mock()\n",
    "m(1,2,3)\n",
    "m(\"This\", \"that\", last=\"the other\")\n",
    "m.call_args\n",
    "# m.call_args_list"
   ]
  },
  {
   "cell_type": "markdown",
   "metadata": {
    "slideshow": {
     "slide_type": "slide"
    }
   },
   "source": [
    "### `method_calls` tracks calls to methods (and methods on methods!) on the `Mock`"
   ]
  },
  {
   "cell_type": "code",
   "execution_count": null,
   "metadata": {
    "collapsed": false,
    "slideshow": {
     "slide_type": "fragment"
    }
   },
   "outputs": [],
   "source": [
    "m = Mock()\n",
    "m() # This is *not* reported in `method_calls`\n",
    "m.some_method()\n",
    "m.what.about.demeter(\"?!\")\n",
    "m.method_calls"
   ]
  },
  {
   "cell_type": "markdown",
   "metadata": {
    "slideshow": {
     "slide_type": "slide"
    }
   },
   "source": [
    "### `mock_calls` tracks everything"
   ]
  },
  {
   "cell_type": "code",
   "execution_count": null,
   "metadata": {
    "collapsed": false,
    "slideshow": {
     "slide_type": "fragment"
    }
   },
   "outputs": [],
   "source": [
    "m = Mock()\n",
    "# `mock_calls` tracks...\n",
    "m(1337)              # ...calls to the Mock\n",
    "m.attr(\"\")           # ...calls to attributes of the Mock\n",
    "m.deep(1).linking(2) # ...Call to the results of calls to attributes \n",
    "m.mock_calls"
   ]
  },
  {
   "cell_type": "markdown",
   "metadata": {
    "slideshow": {
     "slide_type": "slide"
    }
   },
   "source": [
    "# Assert on how a `Mock` is used\n",
    "*`Mock` has methods for checking how it was accessed and called*\n",
    "\n",
    "* Was it called?\n",
    "* Was it called with specific arguments?\n",
    "* Does it have a specific call sequence?"
   ]
  },
  {
   "cell_type": "markdown",
   "metadata": {
    "slideshow": {
     "slide_type": "slide"
    }
   },
   "source": [
    "## Checking arguments"
   ]
  },
  {
   "cell_type": "code",
   "execution_count": null,
   "metadata": {
    "collapsed": false,
    "slideshow": {
     "slide_type": "fragment"
    }
   },
   "outputs": [],
   "source": [
    "m = Mock()\n",
    "\n",
    "# Was there only one call with exactly these arguments?\n",
    "m(beta='b', alpha='a')\n",
    "m.assert_called_once_with(alpha='a', beta='b')\n",
    "\n",
    "# Did the most recent call have these arguments?\n",
    "m(1,2, opt=3)\n",
    "m.assert_called_with(1,2, opt=3)\n"
   ]
  },
  {
   "cell_type": "markdown",
   "metadata": {
    "slideshow": {
     "slide_type": "slide"
    }
   },
   "source": [
    "## Checking call chains"
   ]
  },
  {
   "cell_type": "code",
   "execution_count": null,
   "metadata": {
    "collapsed": false,
    "slideshow": {
     "slide_type": "fragment"
    }
   },
   "outputs": [],
   "source": [
    "m = Mock()\n",
    "m('pelagic')\n",
    "m('argosy')\n",
    "m('sights')\n",
    "m('land')\n",
    "\n",
    "# Check a specific sequence of calls\n",
    "m.assert_has_calls(call(s) for s in ['pelagic', 'argosy', 'sights', 'land'])\n",
    "\n",
    "# Check if *any* call had these arguments\n",
    "m.assert_any_call('argosy')"
   ]
  }
 ],
 "metadata": {
  "celltoolbar": "Slideshow",
  "kernelspec": {
   "display_name": "Python 3",
   "language": "python",
   "name": "python3"
  },
  "language_info": {
   "codemirror_mode": {
    "name": "ipython",
    "version": 3
   },
   "file_extension": ".py",
   "mimetype": "text/x-python",
   "name": "python",
   "nbconvert_exporter": "python",
   "pygments_lexer": "ipython3",
   "version": "3.5.0"
  },
  "name": "mock.ipynb"
 },
 "nbformat": 4,
 "nbformat_minor": 1
}
