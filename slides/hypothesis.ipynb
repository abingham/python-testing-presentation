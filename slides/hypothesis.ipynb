{
 "cells": [
  {
   "cell_type": "code",
   "execution_count": 1,
   "metadata": {
    "init_cell": true,
    "slideshow": {
     "slide_type": "skip"
    }
   },
   "outputs": [
    {
     "data": {
      "text/html": [
       "<link rel=\"stylesheet\" type=\"text/css\" href=\"theme/sixty_north.css\">"
      ],
      "text/plain": [
       "<IPython.core.display.HTML object>"
      ]
     },
     "metadata": {},
     "output_type": "display_data"
    }
   ],
   "source": [
    "%%html\n",
    "<link rel=\"stylesheet\" type=\"text/css\" href=\"theme/sixty_north.css\">"
   ]
  },
  {
   "cell_type": "code",
   "execution_count": 2,
   "metadata": {
    "init_cell": true,
    "slideshow": {
     "slide_type": "skip"
    }
   },
   "outputs": [],
   "source": [
    "%run unittest_magics.py\n",
    "from hypothesis import given"
   ]
  },
  {
   "cell_type": "markdown",
   "metadata": {
    "slideshow": {
     "slide_type": "slide"
    }
   },
   "source": [
    "# `Hypothesis`\n",
    "## Property-based testing for Python\n",
    "\n",
    "[hypothesis.works](http://hypothesis.works/)"
   ]
  },
  {
   "cell_type": "markdown",
   "metadata": {
    "slideshow": {
     "slide_type": "slide"
    }
   },
   "source": [
    "**\"...the larger purpose of Hypothesis is to drag the world kicking and screaming into a new\n",
    "and terrifying age of high quality software.\"**  \n",
    "\n",
    "*--David MacIver, Hypothesis manifesto*"
   ]
  },
  {
   "cell_type": "markdown",
   "metadata": {
    "slideshow": {
     "slide_type": "skip"
    }
   },
   "source": [
    "* Basic idea: express \"hypotheses\"/invariants about your code and let `hypothesis` try to disprove them. Fundamentally, it searches for sets input to your test functions which trigger assertions in the tests.\n",
    "* Strategies: An object with methods that describe how to generate and simplify certain kinds of values.\n",
    "  * Hypothesis simplifies when it finds breaking inputs\n",
    "  * primitive types\n",
    "  * lists, tuples\n",
    "  * choice, sample_from\n",
    "  * stream\n",
    "  * mapping, filtering\n",
    "  * flatmap\n",
    "  * recursive\n",
    "  * composite\n",
    "  * draw (interactive strategy drawing)\n",
    "* @given\n",
    "  * How hypothesis mathes givens to arguments\n",
    "* @example\n",
    "* assume (nan example)\n",
    "* settings\n",
    "  * e.g. max_examples, verbosity\n",
    "  * profiles\n",
    "* note\n",
    "* event\n",
    "* test statistics\n",
    "* executors\n",
    "* find() for data exploration\n",
    "* extras: django, datetime, numpy, etc.\n",
    "* database\n",
    "* stateful testing"
   ]
  },
  {
   "cell_type": "markdown",
   "metadata": {
    "slideshow": {
     "slide_type": "slide"
    }
   },
   "source": [
    "# Basic concept\n",
    "\n",
    "1. Define invariants or \"hypotheses\" about your code\n",
    "2. Tell `hypothesis` how to parameterize your tests\n",
    "3. `hypothesis` searches for parameters that disprove your invariants"
   ]
  },
  {
   "cell_type": "markdown",
   "metadata": {
    "slideshow": {
     "slide_type": "slide"
    }
   },
   "source": [
    "# A motivating example\n",
    "\n",
    "This simple GCD function will help us see the fundamental value of `hypothesis`."
   ]
  },
  {
   "cell_type": "code",
   "execution_count": 3,
   "metadata": {
    "slideshow": {
     "slide_type": "-"
    }
   },
   "outputs": [],
   "source": [
    "def gcd(m, n):\n",
    "    while m and n:\n",
    "        m, n = max(m, n) - min(m, n), min(m, n) \n",
    "    return max(m, n)"
   ]
  },
  {
   "cell_type": "markdown",
   "metadata": {
    "slideshow": {
     "slide_type": "-"
    }
   },
   "source": [
    "With example-based testing we'd throw a lot of examples at the function and look for errors."
   ]
  },
  {
   "cell_type": "code",
   "execution_count": 4,
   "metadata": {
    "slideshow": {
     "slide_type": "subslide"
    }
   },
   "outputs": [
    {
     "name": "stdout",
     "output_type": "stream",
     "text": [
      "FAILURES: 0 ERRORS: 0 SKIPPED: 0 TOTAL: 2\n"
     ]
    }
   ],
   "source": [
    "%%unittest_run\n",
    "\n",
    "import itertools\n",
    "\n",
    "class Tests(unittest.TestCase):\n",
    "    def test_zero_remainder(self):\n",
    "        for m,n in itertools.product(range(1, 1000), range(1, 100)):\n",
    "            d = gcd(m, n)\n",
    "            self.assertEqual(m % d, 0)\n",
    "            self.assertEqual(n % d, 0)\n",
    "            \n",
    "    def test_gcd_is_greatest(self):\n",
    "        for m,n in itertools.product(range(1, 100), range(1, 100)):\n",
    "            d = gcd(m, n)\n",
    "            for other in range(d + 1, 100):\n",
    "                self.assertTrue(m % other or n % other)"
   ]
  },
  {
   "cell_type": "code",
   "execution_count": 5,
   "metadata": {
    "slideshow": {
     "slide_type": "subslide"
    }
   },
   "outputs": [
    {
     "name": "stdout",
     "output_type": "stream",
     "text": [
      "FAILURES: 0 ERRORS: 0 SKIPPED: 0 TOTAL: 2\n"
     ]
    }
   ],
   "source": [
    "%%unittest_run\n",
    "\n",
    "from hypothesis.strategies import assume, integers\n",
    "\n",
    "class Tests(unittest.TestCase):\n",
    "    @given(integers(min_value=1, max_value=2000), \n",
    "           integers(min_value=1, max_value=2000))\n",
    "    def test_zero_remainder(self, m, n):\n",
    "        d = gcd(m, n)\n",
    "        self.assertEqual(m % d, 0)\n",
    "        self.assertEqual(n % d, 0)\n",
    "            \n",
    "    @given(integers(min_value=1, max_value=2000), \n",
    "           integers(min_value=1, max_value=2000), \n",
    "           integers(min_value=1, max_value=2000))\n",
    "    def test_gcd_is_greatest(self, m, n, other):\n",
    "        d = gcd(m, n)\n",
    "        assume(other > d)\n",
    "        self.assertTrue(m % other or n % other)"
   ]
  },
  {
   "cell_type": "markdown",
   "metadata": {
    "slideshow": {
     "slide_type": "slide"
    }
   },
   "source": [
    "# Strategies\n",
    "## Define how to generate and simplify input data"
   ]
  },
  {
   "cell_type": "code",
   "execution_count": 11,
   "metadata": {
    "slideshow": {
     "slide_type": "-"
    }
   },
   "outputs": [
    {
     "data": {
      "text/plain": [
       "[1345069054821528362791176458764103664,\n",
       " '\\x1c\\U0009bf8d\\U001076f0\\U0009b0f3\\x16𘜎)啒\\x1c)',\n",
       " Fraction(-25317944005634928601889704397684258051, 2733),\n",
       " [False,\n",
       "  False,\n",
       "  True,\n",
       "  False,\n",
       "  True,\n",
       "  True,\n",
       "  True,\n",
       "  True,\n",
       "  False,\n",
       "  True,\n",
       "  True,\n",
       "  True,\n",
       "  False,\n",
       "  True,\n",
       "  False,\n",
       "  True,\n",
       "  False,\n",
       "  True]]"
      ]
     },
     "execution_count": 11,
     "metadata": {},
     "output_type": "execute_result"
    }
   ],
   "source": [
    "import hypothesis.strategies as st\n",
    "\n",
    "strategies = [\n",
    "    st.integers(),\n",
    "    st.text(),\n",
    "    st.fractions(),\n",
    "    st.lists(st.booleans())\n",
    "]\n",
    "\n",
    "[s.example() for s in strategies]"
   ]
  },
  {
   "cell_type": "markdown",
   "metadata": {
    "slideshow": {
     "slide_type": "slide"
    }
   },
   "source": [
    "# Primitive strategies\n",
    "## Generate all of the Python primitive types (and then some)\n",
    "\n",
    "* `floats`, `integers`, `booleans`, `None`\n",
    "* `text`, `binary`\n",
    "* `uuids`, `fractions`\n",
    "\n",
    "You will often use these directly, as well as part of more complex strategies"
   ]
  },
  {
   "cell_type": "code",
   "execution_count": 15,
   "metadata": {
    "slideshow": {
     "slide_type": "subslide"
    }
   },
   "outputs": [
    {
     "name": "stdout",
     "output_type": "stream",
     "text": [
      "e3e70682-c209-4cac-629f-6fbed82c07cd 0 b'\\x00\\x00'\n",
      "cd613e30-d8f1-6adf-91b7-584a2265b1f5 0 b'\\x00\\x00'\n",
      "d95bafc8-f2a4-d27b-dcf4-bb99f4bea973 0 b'\\x00\\x00'\n",
      "21636369-8b52-9b4a-97b7-50923ceb3ffd 0 b'\\x00\\x00'\n",
      "b8a1abcd-1a69-16c7-4da4-f9fc3c6da5d7 0 b'\\x00\\x00'\n",
      "e3e70682-c209-4cac-629f-6fbed82c07cd 309489732187827938369994752 b'\\x00\\x00'\n",
      "fcf537eb-4fe7-cc04-a12a-2e357650eabe 309489732187827938369994752 b'\\x00\\x00'\n",
      "b08583df-056e-417f-2f57-643538ddc114 309489732187827938369994762 b'\\x00\\x00'\n",
      "b08583df-056e-417f-2f57-643538ddc114 309489750634572012079546378 b'\\x00\\x00'\n",
      "b08583df-056e-417f-2f57-643538ddc114 310698676454186641254252554 b'\\x00\\x00'\n",
      "b08583df-056e-417f-2f57-643538ddc114 19411210514671216897059522084874 b'\\x00\\x00'\n",
      "b08583df-056e-417f-2f57-643538ddc114 3751691490236635632253727934513162 b'\\x00\\x00'\n",
      "b08583df-056e-417f-2f57-643538ddc114 3751691763455401944918039310893066 b'\\x00\\x00'\n",
      "7c754da8-a79a-af68-21be-20058d56bf93 3751691763456398202518958198620500 b'\\x00\\x00'\n",
      "e3e70682-c209-4cac-629f-6fbed82c07cd 0 b'\\x00\\x01'\n",
      "e3e70682-c209-4cac-629f-6fbed82c07cd 0 b'\\x01\\x00'\n",
      "e3e70682-c209-4cac-629f-6fbed82c07cd 309489732187827938369994752 b'\\x00\\x00'\n",
      "e3e70682-c209-4cac-629f-6fbed82c07cd 309489732187827938369994752 b'\\x00\\x00'\n",
      "fcf537eb-4fe7-cc04-a12a-2e357650eabe 309489732187827938369994752 b'\\x00\\x00'\n",
      "b08583df-056e-417f-2f57-643538ddc114 309489732187827938369994762 b'\\x00\\x00'\n",
      "b08583df-056e-417f-2f57-643538ddc114 309489750634572012079546378 b'\\x00\\x00'\n",
      "b08583df-056e-417f-2f57-643538ddc114 310698676454186641254252554 b'\\x00\\x00'\n",
      "b08583df-056e-417f-2f57-643538ddc114 19411210514671216897059522084874 b'\\x00\\x00'\n",
      "b08583df-056e-417f-2f57-643538ddc114 3751691490236635632253727934513162 b'\\x00\\x00'\n",
      "b08583df-056e-417f-2f57-643538ddc114 3751691763455401944918039310893066 b'\\x00\\x00'\n",
      "7c754da8-a79a-af68-21be-20058d56bf93 3751691763456398202518958198620500 b'\\x00\\x00'\n",
      "5bc8fbbc-bde5-c099-4164-d8399f767c45 0 b'\\x00\\x00'\n",
      "e3e70682-c209-4cac-629f-6fbed82c07cd 0 b'\\x00\\x00'\n",
      "e3e70682-c209-4cac-629f-6fbed82c07cd 0 b'\\x00\\x00'\n",
      "e3e70682-c209-4cac-629f-6fbed82c07cd 0 b'\\x00\\x00'\n",
      "e3e70682-c209-4cac-629f-6fbed82c07cd 0 b'\\x00\\x00'\n",
      "Falsifying example: test_primitive_strategies(self=<__main__.Tests testMethod=test_primitive_strategies>, uuid=UUID('e3e70682-c209-4cac-629f-6fbed82c07cd'), fraction=Fraction(0, 1), binary=b'\\x00\\x00')\n",
      "e3e70682-c209-4cac-629f-6fbed82c07cd 0 b'\\x00\\x00'\n",
      "You can add @seed(302934307671667531413257853548643485645) to this test to reproduce this failure.\n",
      "FAILURES: 1 ERRORS: 0 SKIPPED: 0 TOTAL: 1\n",
      "f: test_primitive_strategies (__main__.Tests)\n"
     ]
    }
   ],
   "source": [
    "%%unittest_run\n",
    "\n",
    "from hypothesis import given\n",
    "\n",
    "class Tests(unittest.TestCase):\n",
    "    @given(st.uuids(), st.fractions(), \n",
    "           st.binary(min_size=2, max_size=10))\n",
    "    def test_primitive_strategies(self, uuid, fraction, binary):\n",
    "        print(uuid, fraction, binary)\n",
    "        self.assertTrue(False)"
   ]
  },
  {
   "cell_type": "markdown",
   "metadata": {
    "slideshow": {
     "slide_type": "slide"
    }
   },
   "source": [
    "# Container strategies\n",
    "## Generate lists, dictionaries, and tuples using other strategies\n",
    "\n",
    "* `lists`\n",
    "* `dictionaries`, `fixeddictionaries`\n",
    "* `sets`, `frozensets`\n",
    "* `streaming`\n",
    "* `tuples`"
   ]
  },
  {
   "cell_type": "code",
   "execution_count": 16,
   "metadata": {
    "slideshow": {
     "slide_type": "subslide"
    }
   },
   "outputs": [
    {
     "name": "stdout",
     "output_type": "stream",
     "text": [
      "{} (0.0,)\n",
      "{} (-0.0,)\n",
      "{} (1.0,)\n",
      "{} (0.0,)\n",
      "{} (0.0,)\n",
      "{5752775138963000729769343794433: '0'} (0.0,)\n",
      "{} (-1.0,)\n",
      "{} (0.0,)\n",
      "Falsifying example: test_container_strategies(self=<__main__.Tests testMethod=test_container_strategies>, d={}, s=(0.0,))\n",
      "{} (0.0,)\n",
      "You can add @seed(302934307671667531413257853548643485645) to this test to reproduce this failure.\n",
      "FAILURES: 1 ERRORS: 0 SKIPPED: 0 TOTAL: 1\n",
      "f: test_container_strategies (__main__.Tests)\n"
     ]
    }
   ],
   "source": [
    "%%unittest_run\n",
    "\n",
    "class Tests(unittest.TestCase):\n",
    "    @given(st.dictionaries(st.integers(), st.text()), \n",
    "           st.tuples(st.floats()))\n",
    "    def test_container_strategies(self, d, s):\n",
    "        print(d, s)\n",
    "        self.assertEqual(len(d), len(s))"
   ]
  },
  {
   "cell_type": "markdown",
   "metadata": {
    "slideshow": {
     "slide_type": "slide"
    }
   },
   "source": [
    "# Mapping and filtering strategies\n",
    "## Declarative modification and constraint of strategies\n",
    "\n",
    "* `<any strategy>.map(func)`: Map a function over a strategy\n",
    "* `<any strategy>.filter(func)`: Keep only matching values from a strategy"
   ]
  },
  {
   "cell_type": "code",
   "execution_count": 17,
   "metadata": {
    "slideshow": {
     "slide_type": "subslide"
    }
   },
   "outputs": [
    {
     "name": "stdout",
     "output_type": "stream",
     "text": [
      "FAILURES: 0 ERRORS: 0 SKIPPED: 0 TOTAL: 1\n"
     ]
    }
   ],
   "source": [
    "%%unittest_run\n",
    "\n",
    "class Tests(unittest.TestCase):\n",
    "    @given(st.integers().map(lambda x: x * 2), \n",
    "           st.integers().filter(lambda x: x % 2 == 0))\n",
    "    def test_even_minus_even_is_even(self, x, y):\n",
    "        self.assertTrue((x - y) % 2 == 0)"
   ]
  },
  {
   "cell_type": "markdown",
   "metadata": {
    "slideshow": {
     "slide_type": "subslide"
    }
   },
   "source": [
    "## `<strategy>.flatmap()` \n",
    "## Use one example to generate further strategies"
   ]
  },
  {
   "cell_type": "code",
   "execution_count": 22,
   "metadata": {
    "slideshow": {
     "slide_type": "-"
    }
   },
   "outputs": [
    {
     "data": {
      "text/plain": [
       "[[-25909775738913710926634836742338635379,\n",
       "  -165056919985583205381283874825657424602],\n",
       " [90023277389163682733307319860207328474,\n",
       "  22460900724744407855333819913302342200],\n",
       " [125772708953927921071741597382378939575,\n",
       "  -141193200898304880067957975728302279953],\n",
       " [-18241233507216142366104434450720748155,\n",
       "  -4459376790664378858124194985086297761],\n",
       " [-82408998998961475073199653815779057631,\n",
       "  134304278128926740089687675485946972189],\n",
       " [-151821323887669877652939342192476160853,\n",
       "  6794280379345776912713999362659688091]]"
      ]
     },
     "execution_count": 22,
     "metadata": {},
     "output_type": "execute_result"
    }
   ],
   "source": [
    "s = st.integers(min_value=1, max_value=3).flatmap(\n",
    "    lambda n: st.lists(st.lists(st.integers(), \n",
    "                                min_size=n, \n",
    "                                max_size=n)))\n",
    "s.example()"
   ]
  },
  {
   "cell_type": "markdown",
   "metadata": {
    "slideshow": {
     "slide_type": "subslide"
    }
   },
   "source": [
    "# Other strategy goodies\n",
    "\n",
    "* `<strategy>.recursive()`: Generate recursive data structures, e.g. JSON data\n",
    "* `hypothesis.strategies.composite`: Combine strategies in arbitrary ways, e.g. lists plus an index\n",
    "* `hypothesis.strategies.data`: Interactively generate values from strategies"
   ]
  },
  {
   "cell_type": "markdown",
   "metadata": {
    "slideshow": {
     "slide_type": "slide"
    }
   },
   "source": [
    "# The `given` decorator\n",
    "## Defines how strategies are associated with test function parameters\n",
    "\n",
    "From the `hypothesis` documentation:\n",
    "\n",
    "* You may pass any keyword argument to `given`.\n",
    "* Positional arguments to `given` are equivalent to the rightmost named\n",
    "  arguments for the test function.\n",
    "* Positional arguments may not be used if the underlying test function has\n",
    "  varargs or arbitrary keywords.\n",
    "* Functions tested with `given` may not have any defaults.\n"
   ]
  },
  {
   "cell_type": "code",
   "execution_count": 23,
   "metadata": {
    "slideshow": {
     "slide_type": "subslide"
    }
   },
   "outputs": [],
   "source": [
    "# All of these tests are equivalent\n",
    "\n",
    "class Tests(unittest.TestCase):\n",
    "    @given(x=st.integers(), y=st.floats())\n",
    "    def test_example1(self, x, y):\n",
    "        print(x, y)\n",
    "    \n",
    "    @given(st.integers(), st.floats())\n",
    "    def test_example2(self, x, y):\n",
    "        print(x, y)\n",
    "    \n",
    "    @given(st.floats(), x=st.integers())\n",
    "    def test_example3(self, x, y):\n",
    "        print(x, y)"
   ]
  },
  {
   "cell_type": "markdown",
   "metadata": {
    "slideshow": {
     "slide_type": "slide"
    }
   },
   "source": [
    "# The `example` decorator\n",
    "## Instruct hypothesis to use some specific examples\n",
    "\n",
    "Examples will be executed before strategy-defined inputs.\n",
    "\n",
    "Useful for testing known edge-cases or other trouble spots."
   ]
  },
  {
   "cell_type": "code",
   "execution_count": 24,
   "metadata": {
    "slideshow": {
     "slide_type": "subslide"
    }
   },
   "outputs": [
    {
     "name": "stdout",
     "output_type": "stream",
     "text": [
      "inputs:  \n",
      "inputs: foo bar\n",
      "inputs:  \n",
      "FAILURES: 0 ERRORS: 0 SKIPPED: 0 TOTAL: 1\n"
     ]
    }
   ],
   "source": [
    "%%unittest_run\n",
    "\n",
    "from hypothesis import example, settings\n",
    "from string import ascii_letters\n",
    "\n",
    "class Tests(unittest.TestCase):\n",
    "    @given(st.text(alphabet=ascii_letters), \n",
    "           st.text(alphabet=ascii_letters))\n",
    "    @example('', '')\n",
    "    @example('foo', 'bar')\n",
    "    @settings(max_examples=1)\n",
    "    def test_levenshtein(self, m, n):\n",
    "        print('inputs:', m, n)"
   ]
  },
  {
   "cell_type": "markdown",
   "metadata": {
    "slideshow": {
     "slide_type": "slide"
    }
   },
   "source": [
    "# `assume()`\n",
    "## Indicate that failures under certain conditions should be ignored\n",
    "\n",
    "`assume()` lets you tell `hypothesis` that the current examples should be considered \"bad examples\". The test will be aborted with an exception but `hypothesis` will not consider it a failure."
   ]
  },
  {
   "cell_type": "code",
   "execution_count": 25,
   "metadata": {
    "slideshow": {
     "slide_type": "subslide"
    }
   },
   "outputs": [
    {
     "name": "stdout",
     "output_type": "stream",
     "text": [
      "FAILURES: 0 ERRORS: 0 SKIPPED: 0 TOTAL: 1\n"
     ]
    }
   ],
   "source": [
    "%%unittest_run\n",
    "\n",
    "from hypothesis import given, assume\n",
    "from math import isnan\n",
    "\n",
    "# adapted from hypothesis documentation\n",
    "class Tests(unittest.TestCase):\n",
    "    @given(st.floats())\n",
    "    def test_negation_is_self_inverse_for_non_nan(self, x):\n",
    "        assume(not isnan(x))\n",
    "        self.assertEqual(x, -(-x))"
   ]
  },
  {
   "cell_type": "markdown",
   "metadata": {
    "slideshow": {
     "slide_type": "slide"
    }
   },
   "source": [
    "# Stateful testing\n",
    "## Find bad states by automatically driving your API\n",
    "\n",
    "* Define API call relationships with a state machine\n",
    "* `hypothesis` can still help generate input data\n",
    "* Use assertions and preconditions to check your program state\n",
    "\n",
    "This is new and semi-public, but is considered ready for general use."
   ]
  },
  {
   "cell_type": "markdown",
   "metadata": {
    "slideshow": {
     "slide_type": "slide"
    }
   },
   "source": [
    "# Further topics\n",
    "\n",
    "* `settings`: get and set values that control how `hypothesis` behaves\n",
    "* `note`: additional diagnostics for final test runs\n",
    "* `event`: inject messages into `hypothesis`'s event log\n",
    "* executors: control the test execution context\n",
    "* `find()`: explore example sets for those that meet certain criteria\n",
    "* extras: django, datetime, numpy, etc.\n",
    "* database: `hypothesis` stores/caches information in a directory structure"
   ]
  }
 ],
 "metadata": {
  "celltoolbar": "Slideshow",
  "kernelspec": {
   "display_name": "Python 3",
   "language": "python",
   "name": "python3"
  },
  "language_info": {
   "codemirror_mode": {
    "name": "ipython",
    "version": 3
   },
   "file_extension": ".py",
   "mimetype": "text/x-python",
   "name": "python",
   "nbconvert_exporter": "python",
   "pygments_lexer": "ipython3",
   "version": "3.6.1"
  },
  "livereveal": {
   "start_slideshow_at": "selected",
   "theme": "simple",
   "transition": "slide"
  }
 },
 "nbformat": 4,
 "nbformat_minor": 2
}
