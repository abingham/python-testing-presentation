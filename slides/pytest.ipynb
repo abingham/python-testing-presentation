{
 "cells": [
  {
   "cell_type": "code",
   "execution_count": null,
   "metadata": {
    "init_cell": true,
    "slideshow": {
     "slide_type": "skip"
    }
   },
   "outputs": [],
   "source": [
    "%%html\n",
    "<link rel=\"stylesheet\" type=\"text/css\" href=\"theme/sixty_north.css\">"
   ]
  },
  {
   "cell_type": "code",
   "execution_count": null,
   "metadata": {
    "init_cell": true,
    "slideshow": {
     "slide_type": "skip"
    }
   },
   "outputs": [],
   "source": [
    "__file__ = 'pytest.ipynb'\n",
    "import ipytest.magics\n",
    "import pytest"
   ]
  },
  {
   "cell_type": "markdown",
   "metadata": {
    "slideshow": {
     "slide_type": "slide"
    }
   },
   "source": [
    "# `pytest`\n",
    "## A powerful unittesting framework\n",
    "[pytest.org](https://pytest.org)"
   ]
  },
  {
   "cell_type": "markdown",
   "metadata": {
    "slideshow": {
     "slide_type": "slide"
    }
   },
   "source": [
    "# Test functions start with `test`\n",
    "## `pytest` is lower ceremony than `unittest`"
   ]
  },
  {
   "cell_type": "code",
   "execution_count": null,
   "metadata": {
    "slideshow": {
     "slide_type": "-"
    }
   },
   "outputs": [],
   "source": [
    "%%run_pytest[clean]\n",
    "\n",
    "def square(x):\n",
    "    return x * x\n",
    "\n",
    "def test_square():\n",
    "    assert square(3) == 3 * 3"
   ]
  },
  {
   "cell_type": "markdown",
   "metadata": {
    "slideshow": {
     "slide_type": "slide"
    }
   },
   "source": [
    "# Test conditions using normal `assert`\n",
    "## `pytest` has smart handling for assertions"
   ]
  },
  {
   "cell_type": "markdown",
   "metadata": {
    "slideshow": {
     "slide_type": "subslide"
    }
   },
   "source": [
    "**It can interpolate values into the output**"
   ]
  },
  {
   "cell_type": "code",
   "execution_count": null,
   "metadata": {
    "slideshow": {
     "slide_type": "-"
    }
   },
   "outputs": [],
   "source": [
    "def test_replacement():\n",
    "    x = 42\n",
    "    y = 1337\n",
    "    assert x > y"
   ]
  },
  {
   "cell_type": "markdown",
   "metadata": {
    "slideshow": {
     "slide_type": "-"
    }
   },
   "source": [
    "```shell\n",
    "F\n",
    "======================================= FAILURES =======================================\n",
    "___________________________________ test_replacement ___________________________________\n",
    "    def test_replacement():\n",
    "        x = 42\n",
    "        y = 1337\n",
    ">       assert x > y\n",
    "E       assert 42 > 1337\n",
    "\n",
    "pytests.py:4: AssertionError\n",
    "```"
   ]
  },
  {
   "cell_type": "markdown",
   "metadata": {
    "slideshow": {
     "slide_type": "subslide"
    }
   },
   "source": [
    "**It can identify the specific differences between strings**"
   ]
  },
  {
   "cell_type": "code",
   "execution_count": null,
   "metadata": {
    "slideshow": {
     "slide_type": "-"
    }
   },
   "outputs": [],
   "source": [
    "def test_monkeys():\n",
    "    assert \"It was the worst of times\" == \"It was the blurst of times\""
   ]
  },
  {
   "cell_type": "markdown",
   "metadata": {},
   "source": [
    "```shell\n",
    "F\n",
    "======================================= FAILURES =======================================\n",
    "_____________________________________ test_monkeys _____________________________________\n",
    "\n",
    "    def test_monkeys():\n",
    ">       assert \"It was the worst of times\" == \"It was the blurst of times\"\n",
    "E       assert 'It was the worst of times' == 'It was the blurst of times'\n",
    "E         - It was the worst of times\n",
    "E         ?            ^^\n",
    "E         + It was the blurst of times\n",
    "E         ?            ^^^\n",
    "\n",
    "pytests.py:2: AssertionError\n",
    "```"
   ]
  },
  {
   "cell_type": "code",
   "execution_count": null,
   "metadata": {
    "slideshow": {
     "slide_type": "subslide"
    }
   },
   "outputs": [],
   "source": [
    "def test_list_comparison():\n",
    "    assert [1, 2, 3] == [1, 2]"
   ]
  },
  {
   "cell_type": "markdown",
   "metadata": {},
   "source": [
    "```shell\n",
    "F\n",
    "======================================= FAILURES =======================================\n",
    "_________________________________ test_list_comparison _________________________________\n",
    "\n",
    "    def test_list_comparison():\n",
    ">       assert [1, 2, 3] == [1, 2]\n",
    "E       assert [1, 2, 3] == [1, 2]\n",
    "E         Left contains more items, first extra item: 3\n",
    "E         Full diff:\n",
    "E         - [1, 2, 3]\n",
    "E         ?      ---\n",
    "E         + [1, 2]\n",
    "\n",
    "pytests.py:2: AssertionError\n",
    "```"
   ]
  },
  {
   "cell_type": "markdown",
   "metadata": {
    "slideshow": {
     "slide_type": "slide"
    }
   },
   "source": [
    "# Testing for exceptions\n",
    "## Use the `pytest.raises` context manager"
   ]
  },
  {
   "cell_type": "markdown",
   "metadata": {
    "slideshow": {
     "slide_type": "subslide"
    }
   },
   "source": [
    "**Basic usage just checks for an exception**"
   ]
  },
  {
   "cell_type": "code",
   "execution_count": null,
   "metadata": {
    "slideshow": {
     "slide_type": "-"
    }
   },
   "outputs": [],
   "source": [
    "%%run_pytest[clean]\n",
    "\n",
    "def test_exception():\n",
    "    with pytest.raises(KeyError):\n",
    "        x = {1: 2}\n",
    "        y = x[3]"
   ]
  },
  {
   "cell_type": "markdown",
   "metadata": {
    "slideshow": {
     "slide_type": "subslide"
    }
   },
   "source": [
    "**Use \"`as`\" to capture a reference to the exception info**"
   ]
  },
  {
   "cell_type": "code",
   "execution_count": null,
   "metadata": {
    "slideshow": {
     "slide_type": "-"
    }
   },
   "outputs": [],
   "source": [
    "%%run_pytest[clean]\n",
    "\n",
    "def test_exception_with_capture():\n",
    "    with pytest.raises(KeyError) as exc_info:\n",
    "        raise KeyError('no such key')\n",
    "    assert exc_info.value.args[0] == 'no such key'"
   ]
  },
  {
   "cell_type": "markdown",
   "metadata": {
    "slideshow": {
     "slide_type": "slide"
    }
   },
   "source": [
    "# Fixtures\n",
    "## \"explicit, modular, scalable\"\n",
    "\n",
    "Fixtures allow you to provide context and data to tests.\n",
    "\n",
    "Full details can be found in [the `pytest` documentation](http://doc.pytest.org/en/latest/fixture.html)."
   ]
  },
  {
   "cell_type": "markdown",
   "metadata": {
    "slideshow": {
     "slide_type": "subslide"
    }
   },
   "source": [
    "# The `pytest.fixture` decorator\n",
    "## Fixture names are matched with test function parameter names"
   ]
  },
  {
   "cell_type": "code",
   "execution_count": null,
   "metadata": {},
   "outputs": [],
   "source": [
    "%%run_pytest[clean]\n",
    "\n",
    "@pytest.fixture\n",
    "def sample_data():\n",
    "    return [25, 6, 4]\n",
    "\n",
    "def test_sample_data(sample_data):\n",
    "    assert sample_data == [25, 6, 4]"
   ]
  },
  {
   "cell_type": "markdown",
   "metadata": {
    "slideshow": {
     "slide_type": "subslide"
    }
   },
   "source": [
    "# Built-in fixtures\n",
    "## `pytest` comes with a number of useful fixtures\n",
    "\n",
    "See them with \"`pytest -q --fixtures`\"\n",
    "\n",
    "```\n",
    "cache                record_xml_property\n",
    "capsys               monkeypatch\n",
    "capfd                recwarn\n",
    "doctest_namespace    tmpdir_factory\n",
    "pytestconfig         tmpdir\n",
    "```"
   ]
  },
  {
   "cell_type": "code",
   "execution_count": null,
   "metadata": {
    "slideshow": {
     "slide_type": "subslide"
    }
   },
   "outputs": [],
   "source": [
    "%%run_pytest[clean]\n",
    "\n",
    "def test_file_ops(tmpdir):\n",
    "    datafile = tmpdir.join('test_data')\n",
    "    assert not datafile.exists()\n",
    "    with datafile.open('w') as f:\n",
    "        f.write('some important data')\n",
    "    assert datafile.exists()"
   ]
  },
  {
   "cell_type": "markdown",
   "metadata": {
    "slideshow": {
     "slide_type": "subslide"
    }
   },
   "source": [
    "# Finalization\n",
    "## Code after a `yield` runs when the test is complete"
   ]
  },
  {
   "cell_type": "code",
   "execution_count": null,
   "metadata": {},
   "outputs": [],
   "source": [
    "%%run_pytest[clean]\n",
    "\n",
    "@pytest.fixture\n",
    "def finalizer():\n",
    "    print('this runs before the test')\n",
    "    yield 42\n",
    "    print('this runs after the test')\n",
    "    \n",
    "def test_finalizer(finalizer):\n",
    "    assert finalizer == 42"
   ]
  },
  {
   "cell_type": "markdown",
   "metadata": {
    "slideshow": {
     "slide_type": "subslide"
    }
   },
   "source": [
    "# Extended fixture scopes\n",
    "## Use `pytest.fixture(scope=. . .)` to control fixture scope\n",
    "\n",
    " * `scope='module'` - Use single fixture value for entire module\n",
    " * `scope='session'` - Use single fixture value for entire session"
   ]
  },
  {
   "cell_type": "code",
   "execution_count": null,
   "metadata": {},
   "outputs": [],
   "source": [
    "@pytest.fixture(scope=\"module\")\n",
    "def satellite_uplink():\n",
    "    return SatelliteUplink('syncom-3')"
   ]
  },
  {
   "cell_type": "markdown",
   "metadata": {
    "slideshow": {
     "slide_type": "subslide"
    }
   },
   "source": [
    "# Parameterized fixtures\n",
    "## Run multiple tests per fixture\n",
    "\n",
    "Specify parameters through the `pytest.fixture(params=. . .)` parameters.\n",
    "\n",
    "Parameters are available through the `request.param` parameter inside the fixture.\n",
    "\n",
    "*Tests will be run for each parameter value.*"
   ]
  },
  {
   "cell_type": "code",
   "execution_count": null,
   "metadata": {
    "slideshow": {
     "slide_type": "subslide"
    }
   },
   "outputs": [],
   "source": [
    "%%run_pytest[clean]\n",
    "\n",
    "@pytest.fixture(params=['4667664', '12321', '9757579'])\n",
    "def palindrome(request):\n",
    "    # request.param hold the current parameter value\n",
    "    return request.param\n",
    "\n",
    "# This will run once for each parameter\n",
    "def test_reversible(palindrome):\n",
    "    assert palindrome == ''.join(reversed(palindrome))"
   ]
  },
  {
   "cell_type": "markdown",
   "metadata": {
    "slideshow": {
     "slide_type": "slide"
    }
   },
   "source": [
    "# Configuration\n",
    "## `pytest` can be configured through an ini-style file\n",
    "\n",
    "Roughly speaking, `pytest` looks in the ancestor directories of your tests for `pytest.ini`, `tox.ini`, or `setup.cfg`.\n",
    "\n",
    "Full details are available [in the `pytest` documentation](http://doc.pytest.org/en/latest/customize.html#basic-test-configuration).\n",
    "\n",
    "----\n",
    "\n",
    "### For example\n",
    "```ini\n",
    "# pytest.ini\n",
    "[pytest]\n",
    "addopts = -qq --disable-pytest-warnings\n",
    "```"
   ]
  },
  {
   "cell_type": "markdown",
   "metadata": {
    "slideshow": {
     "slide_type": "slide"
    }
   },
   "source": [
    "# Test discovery\n",
    "## Powerful, flexible, and intuitive\n",
    "\n",
    "By default:\n",
    "\n",
    " * Starts in current or configured directories\n",
    " * Searches recursively\n",
    " * Matches `*_test.py` or `test_*.py` files\n",
    " * Collects `test_*` functions and methods inside `Test*` classes\n",
    "   \n",
    "**All of this is highly configurable.**"
   ]
  },
  {
   "cell_type": "markdown",
   "metadata": {
    "slideshow": {
     "slide_type": "slide"
    }
   },
   "source": [
    "# ...and a whole lot more!\n",
    "## `pytest` has a lot of functionality for making testing easier\n",
    "\n",
    " * plugins\n",
    " * persistent data across tests\n",
    " * run unittest and nose tests\n",
    " * monkeypatching\n",
    " * caching and state across runs\n",
    " * extensive plugin ecosystem\n",
    " * testing hooks\n",
    " \n",
    "Read all about it at [pytest.org](pytest.org)"
   ]
  }
 ],
 "metadata": {
  "celltoolbar": "Slideshow",
  "kernelspec": {
   "display_name": "Python 3",
   "language": "python",
   "name": "python3"
  },
  "language_info": {
   "codemirror_mode": {
    "name": "ipython",
    "version": 3
   },
   "file_extension": ".py",
   "mimetype": "text/x-python",
   "name": "python",
   "nbconvert_exporter": "python",
   "pygments_lexer": "ipython3",
   "version": "3.6.1"
  },
  "livereveal": {
   "start_slideshow_at": "selected",
   "theme": "simple",
   "transition": "slide"
  }
 },
 "nbformat": 4,
 "nbformat_minor": 2
}
