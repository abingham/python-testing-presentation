{
 "cells": [
  {
   "cell_type": "code",
   "execution_count": 1,
   "metadata": {
    "collapsed": false,
    "init_cell": true,
    "slideshow": {
     "slide_type": "skip"
    }
   },
   "outputs": [
    {
     "data": {
      "text/html": [
       "<link rel=\"stylesheet\" type=\"text/css\" href=\"theme/sixty_north.css\">"
      ],
      "text/plain": [
       "<IPython.core.display.HTML object>"
      ]
     },
     "metadata": {},
     "output_type": "display_data"
    }
   ],
   "source": [
    "%%html\n",
    "<link rel=\"stylesheet\" type=\"text/css\" href=\"theme/sixty_north.css\">"
   ]
  },
  {
   "cell_type": "markdown",
   "metadata": {
    "slideshow": {
     "slide_type": "slide"
    }
   },
   "source": [
    "# Cosmic Ray\n",
    "## Mutation testing for Python\n",
    "\n",
    "[github.com/sixty-north/cosmic-ray](https://github.com/sixty-north/cosmic-ray)"
   ]
  },
  {
   "cell_type": "markdown",
   "metadata": {
    "slideshow": {
     "slide_type": "slide"
    }
   },
   "source": [
    "# Mutation Testing"
   ]
  },
  {
   "cell_type": "markdown",
   "metadata": {
    "slideshow": {
     "slide_type": "slide"
    }
   },
   "source": [
    "From [pitest.org](http://pitest.org):\n",
    "> Mutation testing is conceptually quite simple.\n",
    ">\n",
    "> **Faults (or mutations) are automatically seeded** into your code, then your **tests are run**. If your tests fail then the mutation is **killed**, if your tests pass then the mutation **lived**.\n",
    ">\n",
    "> The **quality of your tests** can be gauged from the percentage of mutations killed."
   ]
  },
  {
   "cell_type": "markdown",
   "metadata": {
    "slideshow": {
     "slide_type": "slide"
    }
   },
   "source": [
    "# What is mutation testing?\n",
    "\n",
    " * Code under test + test suite\n",
    " * Introduce single change to code under test\n",
    " * Run test suite\n",
    " * Ideally, all changes will result in test failures"
   ]
  },
  {
   "cell_type": "markdown",
   "metadata": {
    "slideshow": {
     "slide_type": "slide"
    }
   },
   "source": [
    "# Basic algorithm\n",
    "## Fundamentally a triply-nested loop\n",
    "```python\n",
    "for operator in mutation-operators:\n",
    "    for site in operator.sites(code):\n",
    "        operator.mutate(site)\n",
    "        run_tests()\n",
    "```"
   ]
  },
  {
   "cell_type": "markdown",
   "metadata": {
    "slideshow": {
     "slide_type": "slide"
    }
   },
   "source": [
    "# What does mutation testing report?"
   ]
  },
  {
   "cell_type": "markdown",
   "metadata": {
    "slideshow": {
     "slide_type": "fragment"
    }
   },
   "source": [
    "### Killed\n",
    "> Tests properly detected the mutation."
   ]
  },
  {
   "cell_type": "markdown",
   "metadata": {
    "slideshow": {
     "slide_type": "fragment"
    }
   },
   "source": [
    "### Incompetent\n",
    "> Mutation produced code which is inherently flawed."
   ]
  },
  {
   "cell_type": "markdown",
   "metadata": {
    "slideshow": {
     "slide_type": "fragment"
    }
   },
   "source": [
    "### Survived\n",
    "> Mutation produced code which is inherently flawed."
   ]
  },
  {
   "cell_type": "markdown",
   "metadata": {
    "slideshow": {
     "slide_type": "slide"
    }
   },
   "source": [
    "# Goals of mutation testing\n",
    "## Why go through the trouble?"
   ]
  },
  {
   "cell_type": "markdown",
   "metadata": {
    "slideshow": {
     "slide_type": "fragment"
    }
   },
   "source": [
    "### Coverage analysis\n",
    "Is a line execution?  *vs.*  Is functionality verified?"
   ]
  },
  {
   "cell_type": "markdown",
   "metadata": {
    "slideshow": {
     "slide_type": "fragment"
    }
   },
   "source": [
    "### Detect unnecessary code\n",
    "Survivors can indicate code which is no longer necessary"
   ]
  },
  {
   "cell_type": "markdown",
   "metadata": {
    "slideshow": {
     "slide_type": "slide"
    }
   },
   "source": [
    "# Cosmic Ray"
   ]
  },
  {
   "cell_type": "markdown",
   "metadata": {
    "slideshow": {
     "slide_type": "slide"
    }
   },
   "source": [
    "# Mutation operators\n",
    "## Operators sit at the center of Cosmic Ray"
   ]
  },
  {
   "cell_type": "markdown",
   "metadata": {
    "slideshow": {
     "slide_type": "fragment"
    }
   },
   "source": [
    "What do they do?\n",
    " 1. Identify potential mutation sites\n",
    " 2. Perform mutations on demand"
   ]
  },
  {
   "cell_type": "markdown",
   "metadata": {
    "slideshow": {
     "slide_type": "fragment"
    }
   },
   "source": [
    "Examples:\n",
    " - Relational operator replacement\n",
    " - Constant replacements\n",
    " - Exception swallowing"
   ]
  },
  {
   "cell_type": "markdown",
   "metadata": {
    "slideshow": {
     "slide_type": "slide"
    }
   },
   "source": [
    "# Sessions\n",
    "## Database of mutations, tests, and results\n",
    "\n",
    " - Test runner\n",
    " - Timeout\n",
    " - Work manifest\n",
    " - Results (partial or complete)"
   ]
  },
  {
   "cell_type": "markdown",
   "metadata": {
    "slideshow": {
     "slide_type": "slide"
    }
   },
   "source": [
    "# Local or distributed processing\n",
    "\n",
    " - **Local mode**: Small projects, test-driving Cosmic Ray\n",
    " - **Distributed mode**: Larger projects, longer test suites"
   ]
  },
  {
   "cell_type": "markdown",
   "metadata": {
    "slideshow": {
     "slide_type": "slide"
    }
   },
   "source": [
    "# Mutation mechanism\n",
    "\n",
    " * Uses the [`ast`](https://docs.python.org/3/library/ast.html) module\n",
    " * Utilize [finders and loaders](https://www.python.org/dev/peps/pep-0302/#id27) to inject the mutants\n",
    " * Sandboxing: one Python process per mutation\n",
    " * **Requires no modification to production or test code**"
   ]
  },
  {
   "cell_type": "markdown",
   "metadata": {
    "slideshow": {
     "slide_type": "slide"
    }
   },
   "source": [
    "# Example of a complete session\n",
    "\n",
    "## Initialize, execute, and report"
   ]
  },
  {
   "cell_type": "markdown",
   "metadata": {
    "slideshow": {
     "slide_type": "fragment"
    }
   },
   "source": [
    "```shell\n",
    "$ cosmic-ray init --test-runner=pytest --baseline=10 pytest-session adam -- -x tests\n",
    "```"
   ]
  },
  {
   "cell_type": "markdown",
   "metadata": {
    "slideshow": {
     "slide_type": "fragment"
    }
   },
   "source": [
    "```shell\n",
    "$ cosmic-ray exec pytest-session\n",
    "```"
   ]
  },
  {
   "cell_type": "markdown",
   "metadata": {
    "slideshow": {
     "slide_type": "fragment"
    }
   },
   "source": [
    "```shell\n",
    "$ cosmic-ray report pytest-session\n",
    "total jobs: 56\n",
    "complete: 56 (100.00%)\n",
    "survival rate: 0.00%\n",
    "```"
   ]
  }
 ],
 "metadata": {
  "celltoolbar": "Slideshow",
  "kernelspec": {
   "display_name": "Python 3",
   "language": "python",
   "name": "python3"
  },
  "language_info": {
   "codemirror_mode": {
    "name": "ipython",
    "version": 3
   },
   "file_extension": ".py",
   "mimetype": "text/x-python",
   "name": "python",
   "nbconvert_exporter": "python",
   "pygments_lexer": "ipython3",
   "version": "3.5.0"
  },
  "livereveal": {
   "start_slideshow_at": "selected",
   "theme": "simple",
   "transition": "slide"
  }
 },
 "nbformat": 4,
 "nbformat_minor": 2
}
