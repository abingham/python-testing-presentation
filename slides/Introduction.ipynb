{
 "cells": [
  {
   "cell_type": "code",
   "execution_count": 1,
   "metadata": {
    "init_cell": true,
    "slideshow": {
     "slide_type": "skip"
    }
   },
   "outputs": [
    {
     "data": {
      "text/html": [
       "<link rel=\"stylesheet\" type=\"text/css\" href=\"theme/sixty_north.css\">"
      ],
      "text/plain": [
       "<IPython.core.display.HTML object>"
      ]
     },
     "metadata": {},
     "output_type": "display_data"
    }
   ],
   "source": [
    "%%html\n",
    "<link rel=\"stylesheet\" type=\"text/css\" href=\"theme/sixty_north.css\">"
   ]
  },
  {
   "cell_type": "markdown",
   "metadata": {
    "ein.tags": [
     "worksheet-0"
    ],
    "slideshow": {
     "slide_type": "slide"
    }
   },
   "source": [
    "# Testing in Python\n",
    "## An introduction to (some of) the landscape\n",
    "\n",
    "----\n",
    "\n",
    "**Austin Bingham**<br>\n",
    "*twitter:* @austin_bingham<br>\n",
    "*email:* austin@sixty-north.com\n",
    "\n",
    "----\n",
    "\n",
    "![Sixty North logo](theme/sixty-north-logo.small.png)"
   ]
  },
  {
   "cell_type": "markdown",
   "metadata": {
    "ein.tags": [
     "worksheet-0"
    ],
    "slideshow": {
     "slide_type": "slide"
    }
   },
   "source": [
    "# Agenda\n",
    "- [unittest](unittest.ipynb)\n",
    "- [unittest.mock](mock.ipynb)\n",
    "- [Pytest](pytest.ipynb)\n",
    "- [Hypothesis](hypothesis.ipynb)\n",
    "- [Cosmic Ray](cosmic-ray.ipynb)"
   ]
  },
  {
   "cell_type": "markdown",
   "metadata": {
    "slideshow": {
     "slide_type": "slide"
    }
   },
   "source": [
    "# Thanks!\n",
    "\n",
    "----\n",
    "\n",
    " - Presentation: [github.com/abingham/python-testing-presentation](https://github.com/abingham/python-testing-presentation)\n",
    " - The Python Apprentice: [leanpub.com/python-apprentice/c/ndc-london-2017](https://leanpub.com/python-apprentice/c/ndc-london-2017)\n",
    " - Training and consulting: [sixty-north.com](http://sixty-north.com/)\n",
    " \n",
    " ----\n",
    " \n",
    "![Sixty North logo](theme/sixty-north-logo.small.png)"
   ]
  },
  {
   "cell_type": "code",
   "execution_count": null,
   "metadata": {},
   "outputs": [],
   "source": [
    "'\\u0041\\u006e\\u0079\\u0020\\u0071\\u0075\\u0065\\u0073\\u0074\\u0069'\\\n",
    "'\\u006f\\u006e\\u0073\\u003f'"
   ]
  }
 ],
 "metadata": {
  "celltoolbar": "Slideshow",
  "kernelspec": {
   "display_name": "Python 3",
   "language": "python",
   "name": "python3"
  },
  "language_info": {
   "codemirror_mode": {
    "name": "ipython",
    "version": 3
   },
   "file_extension": ".py",
   "mimetype": "text/x-python",
   "name": "python",
   "nbconvert_exporter": "python",
   "pygments_lexer": "ipython3",
   "version": "3.6.1"
  },
  "livereveal": {
   "start_slideshow_at": "selected",
   "theme": "simple",
   "transition": "slide"
  }
 },
 "nbformat": 4,
 "nbformat_minor": 1
}
