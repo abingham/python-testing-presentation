{
 "cells": [
  {
   "cell_type": "code",
   "execution_count": null,
   "metadata": {
    "collapsed": true
   },
   "outputs": [],
   "source": [
    "%%html\n",
    "<link rel=\"stylesheet\" type=\"text/css\" href=\"sixty_north.css\">"
   ]
  },
  {
   "cell_type": "markdown",
   "metadata": {
    "slideshow": {
     "slide_type": "slide"
    }
   },
   "source": [
    "# `Hypothesis`\n",
    "**Property-based testing for Python**\n",
    "\n",
    "**TODO** Verify this!!!\n",
    "[hypothesisworks.com](https://hypoethesisworks.com)"
   ]
  },
  {
   "cell_type": "markdown",
   "metadata": {
    "slideshow": {
     "slide_type": "slide"
    }
   },
   "source": [
    "**\"...the larger purpose of Hypothesis is to drag the world kicking and screaming into a new\n",
    "and terrifying age of high quality software.\"**  \n",
    "\n",
    "*--David MacIver, Hypothesis manifesto*"
   ]
  },
  {
   "cell_type": "markdown",
   "metadata": {
    "slideshow": {
     "slide_type": "skip"
    }
   },
   "source": [
    "* Basic idea: express \"hypotheses\"/invariants about your code and let `hypothesis` try to disprove them. Fundamentally, it searches for sets input to your test functions which trigger assertions in the tests.\n",
    "* Strategies: An object with methods that describe how to generate and simplify certain kinds of values.\n",
    "  * Hypothesis simplifies when it finds breaking inputs\n",
    "  * primitive types\n",
    "  * lists, tuples\n",
    "  * choice, sample_from\n",
    "  * stream\n",
    "  * mapping, filtering\n",
    "  * flatmap\n",
    "  * recursive\n",
    "  * composite\n",
    "  * draw (interactive strategy drawing)\n",
    "* @given\n",
    "  * How hypothesis mathes givens to arguments\n",
    "* @example\n",
    "* assume (nan example)\n",
    "* settings\n",
    "  * e.g. max_examples, verbosity\n",
    "  * profiles\n",
    "* note\n",
    "* event\n",
    "* test statistics\n",
    "* executors\n",
    "* find() for data exploration\n",
    "* extras: django, datetime, numpy, etc.\n",
    "* database\n",
    "* stateful testing"
   ]
  },
  {
   "cell_type": "code",
   "execution_count": 1,
   "metadata": {
    "collapsed": true,
    "slideshow": {
     "slide_type": "slide"
    }
   },
   "outputs": [],
   "source": [
    "%run unittest_magics.py\n",
    "from hypothesis import given"
   ]
  },
  {
   "cell_type": "markdown",
   "metadata": {
    "slideshow": {
     "slide_type": "slide"
    }
   },
   "source": [
    "# Basic concept\n",
    "\n",
    "1. Define invariants or \"hypotheses\" about your code\n",
    "2. Tell `hypothesis` how to parameterize your tests\n",
    "3. `hypothesis` searches for parameters that disprove your invariants"
   ]
  },
  {
   "cell_type": "markdown",
   "metadata": {
    "slideshow": {
     "slide_type": "slide"
    }
   },
   "source": [
    "# A motivating example\n",
    "\n",
    "This simple GCD function will help us see the fundamental value of `hypothesis`."
   ]
  },
  {
   "cell_type": "code",
   "execution_count": 2,
   "metadata": {
    "collapsed": true,
    "slideshow": {
     "slide_type": "-"
    }
   },
   "outputs": [],
   "source": [
    "def gcd(m, n):\n",
    "    while m and n:\n",
    "        m, n = max(m, n) - min(m, n), min(m, n)\n",
    "    return max(m, n)"
   ]
  },
  {
   "cell_type": "markdown",
   "metadata": {
    "slideshow": {
     "slide_type": "-"
    }
   },
   "source": [
    "With example-based testing we'd throw a lot of examples at the function and look for errors."
   ]
  },
  {
   "cell_type": "code",
   "execution_count": 2,
   "metadata": {
    "collapsed": false,
    "slideshow": {
     "slide_type": "subslide"
    }
   },
   "outputs": [
    {
     "name": "stdout",
     "output_type": "stream",
     "text": [
      "FAILURES: 0 ERRORS: 2 SKIPPED: 0 TOTAL: 2\n",
      "e: test_gcd_is_greatest (__main__.Tests)\n",
      "e: test_zero_remainder (__main__.Tests)\n"
     ]
    }
   ],
   "source": [
    "%%unittest_run\n",
    "\n",
    "import itertools\n",
    "\n",
    "class Tests(unittest.TestCase):\n",
    "    def test_zero_remainder(self):\n",
    "        for m,n in itertools.product(range(1, 1000), range(1, 100)):\n",
    "            d = gcd(m, n)\n",
    "            self.assertEqual(m % d, 0)\n",
    "            self.assertEqual(n % d, 0)\n",
    "            \n",
    "    def test_gcd_is_greatest(self):\n",
    "        for m,n in itertools.product(range(1, 100), range(1, 100)):\n",
    "            d = gcd(m, n)\n",
    "            for other in range(d + 1, 100):\n",
    "                self.assertTrue(m % other or n % other)"
   ]
  },
  {
   "cell_type": "code",
   "execution_count": 3,
   "metadata": {
    "collapsed": false,
    "slideshow": {
     "slide_type": "subslide"
    }
   },
   "outputs": [
    {
     "name": "stdout",
     "output_type": "stream",
     "text": [
      "Falsifying example: test_gcd_is_greatest(self=<__main__.Tests testMethod=test_gcd_is_greatest>, m=1, n=1, other=1)\n",
      "Falsifying example: test_zero_remainder(self=<__main__.Tests testMethod=test_zero_remainder>, m=1, n=1)\n",
      "FAILURES: 0 ERRORS: 2 SKIPPED: 0 TOTAL: 2\n",
      "e: test_gcd_is_greatest (__main__.Tests)\n",
      "e: test_zero_remainder (__main__.Tests)\n"
     ]
    }
   ],
   "source": [
    "%%unittest_run\n",
    "\n",
    "from hypothesis.strategies import assume, integers\n",
    "\n",
    "class Tests(unittest.TestCase):\n",
    "    @given(integers(min_value=1, max_value=2000), integers(min_value=1, max_value=2000))\n",
    "    def test_zero_remainder(self, m, n):\n",
    "        d = gcd(m, n)\n",
    "        self.assertEqual(m % d, 0)\n",
    "        self.assertEqual(n % d, 0)\n",
    "            \n",
    "    @given(integers(min_value=1, max_value=2000), integers(min_value=1, max_value=2000), integers(min_value=1, max_value=200))\n",
    "    def test_gcd_is_greatest(self, m, n, other):\n",
    "        d = gcd(m, n)\n",
    "        assume(other > d)\n",
    "        self.assertTrue(m % other or n % other)"
   ]
  },
  {
   "cell_type": "markdown",
   "metadata": {
    "slideshow": {
     "slide_type": "slide"
    }
   },
   "source": [
    "# Strategies\n",
    "*Define how to generate and simplify input data*"
   ]
  },
  {
   "cell_type": "code",
   "execution_count": 5,
   "metadata": {
    "collapsed": false,
    "slideshow": {
     "slide_type": "-"
    }
   },
   "outputs": [
    {
     "data": {
      "text/plain": [
       "[-72, '', Fraction(-4, 46131), [True, True, True]]"
      ]
     },
     "execution_count": 5,
     "metadata": {},
     "output_type": "execute_result"
    }
   ],
   "source": [
    "import hypothesis.strategies as st\n",
    "\n",
    "strategies = [\n",
    "    st.integers(),\n",
    "    st.text(),\n",
    "    st.fractions(),\n",
    "    st.lists(st.booleans())\n",
    "]\n",
    "\n",
    "[s.example() for s in strategies]"
   ]
  },
  {
   "cell_type": "markdown",
   "metadata": {
    "slideshow": {
     "slide_type": "slide"
    }
   },
   "source": [
    "## Primitive strategies\n",
    "*Generate all of the Python primitive types (and then some)*\n",
    "\n",
    "* `floats`, `integers`, `booleans`, `None`\n",
    "* `text`, `binary`\n",
    "* `uuids`, `fractions`\n",
    "\n",
    "You will often use these directly, as well as part of more complex strategies"
   ]
  },
  {
   "cell_type": "code",
   "execution_count": 6,
   "metadata": {
    "collapsed": false,
    "slideshow": {
     "slide_type": "subslide"
    }
   },
   "outputs": [
    {
     "name": "stdout",
     "output_type": "stream",
     "text": [
      "fbb4cec9-7132-903d-0133-567ccdd9b281 -183/815 b'DhS~\\x99\\xd2\\t\\x1fN\\xe1'\n",
      "fbb4cec9-7132-903d-0133-567ccdd9b281 -183/815 b'DhS~\\x99\\xd2\\t\\x1fN\\xe1'\n",
      "fbb4cec9-7132-903d-0133-567ccdd9b281 -183/815 b'DhS\\xd2\\t\\x1fN\\xe1'\n",
      "e9274cad-67ea-3d60-a94c-dc542533874f 2710936726419280443029577633263255552/135389463797825537 b'DhS\\xd2\\t\\x01'\n",
      "5a00ba02-5828-e5b8-9f65-68039aadd2ba 2465582589519981814218752/74624959292498177 b'D\\x01\\x01'\n",
      "5a00ba02-5828-e5b8-9f65-68039aadd2ba 2465582589519981814218752/74624959292498177 b'D\\x01'\n",
      "5a00ba02-5828-e5b8-9f65-68039aadd2ba 2465582589519981814218752/74624959292498177 b'D\\x01'\n",
      "5a00ba02-5828-e5b8-9f65-68039aadd2ba 2465582589519981814218752/74624959292498177 b'\\x00\\x01'\n",
      "5a00ba02-5828-e5b8-9f65-68039aadd2ba 2465582589519981814218752/74624959292498177 b'\\x00\\x00'\n",
      "5a00ba02-5828-e5b8-9f65-68039aadd2ba 2465582589519981814218752/74624959292498177 b'\\x00\\x00'\n",
      "5a00ba02-5828-e5b8-9f65-68039aadd2ba 2465582589519981814218752 b'\\x00\\x00'\n",
      "5a00ba02-5828-e5b8-9f65-68039aadd2ba 0 b'\\x00\\x00'\n",
      "e3e70682-c209-4cac-629f-6fbed82c07cd 0 b'\\x00\\x00'\n",
      "Falsifying example: test_primitive_strategies(self=<__main__.Tests testMethod=test_primitive_strategies>, uuid=UUID('e3e70682-c209-4cac-629f-6fbed82c07cd'), fraction=Fraction(0, 1), binary=b'\\x00\\x00')\n",
      "e3e70682-c209-4cac-629f-6fbed82c07cd 0 b'\\x00\\x00'\n",
      "FAILURES: 1 ERRORS: 0 SKIPPED: 0 TOTAL: 1\n",
      "f: test_primitive_strategies (__main__.Tests)\n"
     ]
    }
   ],
   "source": [
    "%%unittest_run\n",
    "\n",
    "from hypothesis import given\n",
    "\n",
    "class Tests(unittest.TestCase):\n",
    "    @given(st.uuids(), st.fractions(), st.binary(min_size=2, max_size=10))\n",
    "    def test_primitive_strategies(self, uuid, fraction, binary):\n",
    "        print(uuid, fraction, binary)\n",
    "        self.assertEqual(uuid, fraction)"
   ]
  },
  {
   "cell_type": "markdown",
   "metadata": {
    "slideshow": {
     "slide_type": "slide"
    }
   },
   "source": [
    "## Container strategies\n",
    "*Generate lists, dictionaries, and tuples using other strategies*\n",
    "\n",
    "* `lists`\n",
    "* `dictionaries`, `fixeddictionaries`\n",
    "* `sets`, `frozensets`\n",
    "* `streaming`\n",
    "* `tuples`"
   ]
  },
  {
   "cell_type": "code",
   "execution_count": 7,
   "metadata": {
    "collapsed": false,
    "slideshow": {
     "slide_type": "subslide"
    }
   },
   "outputs": [
    {
     "name": "stdout",
     "output_type": "stream",
     "text": [
      "{8: '\\U000ab90b礤\\U000812e5\\U00044326Ñ', -32430: '\\x98䜋'} (6.081201111164977e+18,)\n",
      "{8: '\\U000ab90b礤\\U000812e5\\U00044326Ñ', -32430: '\\x98䜋'} (6.081201111164977e+18,)\n",
      "{8: '\\U000ab90b礤\\U000812e5\\U00044326Ñ', -32430: ''} (9.69580290841861e+192,)\n",
      "{8: '\\U000ab90b\\U000812e5\\U00044326Ñ', -32430: ''} (9.69580290841861e+192,)\n",
      "{1993841993677373809355710590420516990: ''} (1.0682094739224106e-306,)\n",
      "{8: '\\U000ab90b\\U000812e5\\U00044326Ñ0'} (0.0,)\n",
      "{1384738019747304446050676188125331617: '', -32430: ''} (9.69580290841861e+192,)\n",
      "{1993841993677373809355710590420516990: ''} (1.0682094739224106e-306,)\n",
      "{7788445287802241442795744493830144: ''} (5.64981402286857e-310,)\n",
      "{-32430: ''} (9.69580290841861e+192,)\n",
      "{7788445287802241442795744493830144: ''} (5.64981402286857e-310,)\n",
      "{1384738019747304446050676188125331617: '0'} (0.0,)\n",
      "{} (9.69580290841861e+192,)\n",
      "{} (9.69580290841861e+192,)\n",
      "{} (0.0,)\n",
      "Falsifying example: test_container_strategies(self=<__main__.Tests testMethod=test_container_strategies>, d={}, s=(0.0,))\n",
      "{} (0.0,)\n",
      "FAILURES: 1 ERRORS: 0 SKIPPED: 0 TOTAL: 1\n",
      "f: test_container_strategies (__main__.Tests)\n"
     ]
    }
   ],
   "source": [
    "%%unittest_run\n",
    "\n",
    "class Tests(unittest.TestCase):\n",
    "    @given(st.dictionaries(st.integers(), st.text()), st.tuples(st.floats()))\n",
    "    def test_container_strategies(self, d, s):\n",
    "        print(d, s)\n",
    "        self.assertEqual(len(d), len(s))"
   ]
  },
  {
   "cell_type": "markdown",
   "metadata": {
    "slideshow": {
     "slide_type": "slide"
    }
   },
   "source": [
    "## Mapping and filtering strategies\n",
    "*Declarative modification and constraint of strategies*\n",
    "\n",
    "* `<any strategy>.map(func)`: Map a function over a strategy\n",
    "* `<any strategy>.filter(func)`: Keep only matching values from a strategy"
   ]
  },
  {
   "cell_type": "code",
   "execution_count": 8,
   "metadata": {
    "collapsed": false,
    "slideshow": {
     "slide_type": "subslide"
    }
   },
   "outputs": [
    {
     "name": "stdout",
     "output_type": "stream",
     "text": [
      "FAILURES: 0 ERRORS: 0 SKIPPED: 0 TOTAL: 1\n"
     ]
    }
   ],
   "source": [
    "%%unittest_run\n",
    "\n",
    "class Tests(unittest.TestCase):\n",
    "    @given(st.integers().map(lambda x: x * 2), \n",
    "           st.integers().filter(lambda x: x % 2 == 0))\n",
    "    def test_even_minus_even_is_odd(self, x, y):\n",
    "        self.assertTrue((x - y) % 2 == 0)"
   ]
  },
  {
   "cell_type": "markdown",
   "metadata": {
    "slideshow": {
     "slide_type": "subslide"
    }
   },
   "source": [
    "## `<strategy>.flatmap()` \n",
    "*Use one example to generate further strategies*"
   ]
  },
  {
   "cell_type": "code",
   "execution_count": 9,
   "metadata": {
    "collapsed": false,
    "slideshow": {
     "slide_type": "-"
    }
   },
   "outputs": [
    {
     "data": {
      "text/plain": [
       "[[-249, 119], [164, -53216]]"
      ]
     },
     "execution_count": 9,
     "metadata": {},
     "output_type": "execute_result"
    }
   ],
   "source": [
    "s = st.integers(min_value=1, max_value=3).flatmap(\n",
    "    lambda n: st.lists(st.lists(st.integers(), min_size=n, max_size=n)))\n",
    "s.example()"
   ]
  },
  {
   "cell_type": "markdown",
   "metadata": {
    "slideshow": {
     "slide_type": "subslide"
    }
   },
   "source": [
    "## Other strategy goodies\n",
    "\n",
    "* `<strategy>.recursive()`: Generate recursive data structures, e.g. JSON data\n",
    "* `hypothesis.strategies.composite`: Combine strategies in arbitrary ways, e.g. lists plus an index\n",
    "* `hypothesis.strategies.data`: Interactively generate values from strategies"
   ]
  },
  {
   "cell_type": "markdown",
   "metadata": {
    "slideshow": {
     "slide_type": "slide"
    }
   },
   "source": [
    "# The `given` decorator\n",
    "*Defines how strategies are associated with test function parameters*\n",
    "\n",
    "From the `hypothesis` documentation:\n",
    "\n",
    "* You may pass any keyword argument to `given`.\n",
    "* Positional arguments to `given` are equivalent to the rightmost named\n",
    "  arguments for the test function.\n",
    "* Positional arguments may not be used if the underlying test function has\n",
    "  varargs or arbitrary keywords.\n",
    "* Functions tested with `given` may not have any defaults.\n"
   ]
  },
  {
   "cell_type": "code",
   "execution_count": 10,
   "metadata": {
    "collapsed": false,
    "slideshow": {
     "slide_type": "subslide"
    }
   },
   "outputs": [],
   "source": [
    "# All of these tests are equivalent\n",
    "\n",
    "class Tests(unittest.TestCase):\n",
    "    @given(x=st.integers(), y=st.floats())\n",
    "    def test_example1(self, x, y):\n",
    "        print(x, y)\n",
    "    \n",
    "    @given(st.integers(), st.floats())\n",
    "    def test_example2(self, x, y):\n",
    "        print(x, y)\n",
    "    \n",
    "    @given(st.floats(), x=st.integers())\n",
    "    def test_example3(self, x, y):\n",
    "        print(x, y)"
   ]
  },
  {
   "cell_type": "markdown",
   "metadata": {
    "slideshow": {
     "slide_type": "slide"
    }
   },
   "source": [
    "# The `example` decorator\n",
    "*Instruct hypothesis to use some specific examples*\n",
    "\n",
    "Examples will be executed before strategy-defined inputs.\n",
    "\n",
    "Useful for testing known edge-cases or other trouble spots."
   ]
  },
  {
   "cell_type": "code",
   "execution_count": 11,
   "metadata": {
    "collapsed": false,
    "slideshow": {
     "slide_type": "subslide"
    }
   },
   "outputs": [
    {
     "name": "stdout",
     "output_type": "stream",
     "text": [
      "inputs:  \n",
      "inputs: foo bar\n",
      "inputs: L \n",
      "FAILURES: 0 ERRORS: 0 SKIPPED: 0 TOTAL: 1\n"
     ]
    }
   ],
   "source": [
    "%%unittest_run\n",
    "\n",
    "from hypothesis import example, settings\n",
    "from string import ascii_letters\n",
    "\n",
    "class Tests(unittest.TestCase):\n",
    "    @given(st.text(alphabet=ascii_letters), st.text(alphabet=ascii_letters))\n",
    "    @example('', '')\n",
    "    @example('foo', 'bar')\n",
    "    @settings(max_examples=1)\n",
    "    def test_levenshtein(self, m, n):\n",
    "        print('inputs:', m, n)"
   ]
  },
  {
   "cell_type": "markdown",
   "metadata": {
    "slideshow": {
     "slide_type": "slide"
    }
   },
   "source": [
    "# `assume()`\n",
    "*Indicate that failures under certain conditions should be ignored*\n",
    "\n",
    "`assume()` lets you tell `hypothesis` that the current examples should be considered \"bad examples\". The test will be aborted with an exception but `hypothesis` will not consider it a failure."
   ]
  },
  {
   "cell_type": "code",
   "execution_count": 12,
   "metadata": {
    "collapsed": false,
    "slideshow": {
     "slide_type": "subslide"
    }
   },
   "outputs": [
    {
     "name": "stdout",
     "output_type": "stream",
     "text": [
      "FAILURES: 0 ERRORS: 0 SKIPPED: 0 TOTAL: 1\n"
     ]
    }
   ],
   "source": [
    "%%unittest_run\n",
    "\n",
    "from hypothesis import given, assume\n",
    "from math import isnan\n",
    "\n",
    "# adapted from hypothesis documentation\n",
    "class Tests(unittest.TestCase):\n",
    "    @given(st.floats())\n",
    "    def test_negation_is_self_inverse_for_non_nan(self, x):\n",
    "        assume(not isnan(x))\n",
    "        self.assertEqual(x, -(-x))"
   ]
  },
  {
   "cell_type": "markdown",
   "metadata": {
    "slideshow": {
     "slide_type": "slide"
    }
   },
   "source": [
    "# Stateful testing\n",
    "*Find bad states by automatically driving your API*\n",
    "\n",
    "* Define API call relationships with a state machine\n",
    "* `hypothesis` can still help generate input data\n",
    "* Use assertions and preconditions to check your program state\n",
    "\n",
    "This is new and semi-public, but is considered ready for general use."
   ]
  },
  {
   "cell_type": "markdown",
   "metadata": {
    "slideshow": {
     "slide_type": "slide"
    }
   },
   "source": [
    "# Further topics\n",
    "\n",
    "* `settings`: get and set values that control how `hypothesis` behaves\n",
    "* `note`: additional diagnostics for final test runs\n",
    "* `event`: inject messages into `hypothesis`'s event log\n",
    "* executors: control the test execution context\n",
    "* `find()`: explore example sets for those that meet certain criteria\n",
    "* extras: django, datetime, numpy, etc.\n",
    "* database: `hypothesis` stores/caches information in a directory structure"
   ]
  }
 ],
 "metadata": {
  "celltoolbar": "Slideshow",
  "kernelspec": {
   "display_name": "Python 3",
   "language": "python",
   "name": "python3"
  },
  "language_info": {
   "codemirror_mode": {
    "name": "ipython",
    "version": 3
   },
   "file_extension": ".py",
   "mimetype": "text/x-python",
   "name": "python",
   "nbconvert_exporter": "python",
   "pygments_lexer": "ipython3",
   "version": "3.5.0"
  }
 },
 "nbformat": 4,
 "nbformat_minor": 2
}
