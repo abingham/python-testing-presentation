{
 "cells": [
  {
   "cell_type": "markdown",
   "metadata": {
    "slideshow": {
     "slide_type": "slide"
    }
   },
   "source": [
    "# `pytest`\n",
    "**A powerful unittesting framework**\n",
    "\n",
    "[Project homepage](https://pytest.org)"
   ]
  },
  {
   "cell_type": "markdown",
   "metadata": {
    "slideshow": {
     "slide_type": "skip"
    }
   },
   "source": [
    "* Low-ceremony: write test functiosn that start with test_. No need for test suites etc.\n",
    "* Simple assertions for tests\n",
    "* auto-discovery\n",
    "* can run unittest (and nose) tests\n",
    "* configuration options\n",
    "  * e.g. norecursedirs, testpaths, etc.\n",
    "  * config files, pytest.ini\n",
    "  * command line options\n",
    "* Fixtures: defined as decorators (?) and specified as arguments to test functions\n",
    "* Persistent data across tests\n",
    "* plugins/extensions"
   ]
  },
  {
   "cell_type": "code",
   "execution_count": 29,
   "metadata": {
    "collapsed": true,
    "slideshow": {
     "slide_type": "slide"
    }
   },
   "outputs": [],
   "source": [
    "%run pytest_magics.py"
   ]
  },
  {
   "cell_type": "markdown",
   "metadata": {
    "slideshow": {
     "slide_type": "skip"
    }
   },
   "source": [
    "# Autodiscovery\n",
    "## Conventions for Python test discovery\n",
    "pytest implements the following standard test discovery:\n",
    "\n",
    "If no arguments are specified then collection starts from testpaths (if configured) or the current directory. Alternatively, command line arguments can be used in any combination of directories, file names or node ids.\n",
    "Recurse into directories, unless they match norecursedirs.\n",
    "In those directories, search for test_*.py or *_test.py files, imported by their test package name.\n",
    "From those files, collect test items:\n",
    "test_ prefixed test functions or methods outside of class\n",
    "test_ prefixed test functions or methods inside Test prefixed test classes (without an __init__ method)"
   ]
  },
  {
   "cell_type": "code",
   "execution_count": 30,
   "metadata": {
    "collapsed": false,
    "slideshow": {
     "slide_type": "slide"
    }
   },
   "outputs": [
    {
     "name": "stdout",
     "output_type": "stream",
     "text": [
      "..\n",
      "2 passed in 0.05 seconds\n"
     ]
    }
   ],
   "source": [
    "%%pytest_run\n",
    "\n",
    "def test_foo():\n",
    "    assert True == True\n",
    "    \n",
    "def test_llamas():\n",
    "    assert 1 == 1"
   ]
  },
  {
   "cell_type": "markdown",
   "metadata": {},
   "source": [
    "**TODO** Need to figure out how to run pytest stuff in jupyter"
   ]
  }
 ],
 "metadata": {
  "celltoolbar": "Slideshow",
  "kernelspec": {
   "display_name": "Python 3",
   "language": "python",
   "name": "python3"
  },
  "language_info": {
   "codemirror_mode": {
    "name": "ipython",
    "version": 3
   },
   "file_extension": ".py",
   "mimetype": "text/x-python",
   "name": "python",
   "nbconvert_exporter": "python",
   "pygments_lexer": "ipython3",
   "version": "3.5.2"
  }
 },
 "nbformat": 4,
 "nbformat_minor": 2
}
