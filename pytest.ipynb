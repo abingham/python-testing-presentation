{
 "cells": [
  {
   "cell_type": "markdown",
   "metadata": {
    "slideshow": {
     "slide_type": "slide"
    }
   },
   "source": [
    "# `pytest`\n",
    "**A powerful unittesting framework**\n",
    "\n",
    "[Project homepage](https://pytest.org)"
   ]
  },
  {
   "cell_type": "markdown",
   "metadata": {
    "slideshow": {
     "slide_type": "skip"
    }
   },
   "source": [
    "* Low-ceremony: write test functiosn that start with test_. No need for test suites etc.\n",
    "* Simple assertions for tests\n",
    "* auto-discovery\n",
    "* can run unittest (and nose) tests\n",
    "* configuration options\n",
    "  * e.g. norecursedirs, testpaths, etc.\n",
    "  * config files, pytest.ini\n",
    "  * command line options\n",
    "* Fixtures: defined as decorators (?) and specified as arguments to test functions\n",
    "* Persistent data across tests\n",
    "* plugins/extensions"
   ]
  },
  {
   "cell_type": "markdown",
   "metadata": {
    "slideshow": {
     "slide_type": "skip"
    }
   },
   "source": [
    "# Autodiscovery\n",
    "## Conventions for Python test discovery\n",
    "pytest implements the following standard test discovery:\n",
    "\n",
    "If no arguments are specified then collection starts from testpaths (if configured) or the current directory. Alternatively, command line arguments can be used in any combination of directories, file names or node ids.\n",
    "Recurse into directories, unless they match norecursedirs.\n",
    "In those directories, search for test_*.py or *_test.py files, imported by their test package name.\n",
    "From those files, collect test items:\n",
    "test_ prefixed test functions or methods outside of class\n",
    "test_ prefixed test functions or methods inside Test prefixed test classes (without an __init__ method)"
   ]
  },
  {
   "cell_type": "code",
   "execution_count": 1,
   "metadata": {
    "collapsed": false
   },
   "outputs": [
    {
     "ename": "AttributeError",
     "evalue": "module 'pytest' has no attribute 'config'",
     "output_type": "error",
     "traceback": [
      "\u001b[0;31m---------------------------------------------------------------------------\u001b[0m",
      "\u001b[0;31mAttributeError\u001b[0m                            Traceback (most recent call last)",
      "\u001b[0;32m<ipython-input-1-ba30290f62f7>\u001b[0m in \u001b[0;36m<module>\u001b[0;34m()\u001b[0m\n\u001b[1;32m      1\u001b[0m \u001b[0;32mimport\u001b[0m \u001b[0mpytest\u001b[0m\u001b[0;34m\u001b[0m\u001b[0m\n\u001b[0;32m----> 2\u001b[0;31m \u001b[0mpytest\u001b[0m\u001b[0;34m.\u001b[0m\u001b[0mconfig\u001b[0m\u001b[0;34m\u001b[0m\u001b[0m\n\u001b[0m",
      "\u001b[0;31mAttributeError\u001b[0m: module 'pytest' has no attribute 'config'"
     ]
    }
   ],
   "source": [
    "import pytest\n",
    "pytest.config"
   ]
  },
  {
   "cell_type": "markdown",
   "metadata": {},
   "source": [
    "**TODO** Need to figure out how to run pytest stuff in jupyter"
   ]
  }
 ],
 "metadata": {
  "celltoolbar": "Slideshow",
  "kernelspec": {
   "display_name": "Python 3",
   "language": "python",
   "name": "python3"
  },
  "language_info": {
   "codemirror_mode": {
    "name": "ipython",
    "version": 3
   },
   "file_extension": ".py",
   "mimetype": "text/x-python",
   "name": "python",
   "nbconvert_exporter": "python",
   "pygments_lexer": "ipython3",
   "version": "3.5.2"
  }
 },
 "nbformat": 4,
 "nbformat_minor": 2
}
