{
 "cells": [
  {
   "cell_type": "markdown",
   "metadata": {
    "slideshow": {
     "slide_type": "slide"
    }
   },
   "source": [
    "# `pytest`\n",
    "**A powerful unittesting framework**\n",
    "\n",
    "[Project homepage](https://pytest.org)"
   ]
  },
  {
   "cell_type": "markdown",
   "metadata": {
    "slideshow": {
     "slide_type": "skip"
    }
   },
   "source": [
    "* Low-ceremony: write test functiosn that start with test_. No need for test suites etc.\n",
    "* Simple assertions for tests\n",
    "* auto-discovery\n",
    "* can run unittest (and nose) tests\n",
    "* configuration options\n",
    "  * e.g. norecursedirs, testpaths, etc.\n",
    "  * config files, pytest.ini\n",
    "  * command line options\n",
    "* Fixtures: defined as decorators (?) and specified as arguments to test functions\n",
    "* Persistent data across tests\n",
    "* plugins/extensions"
   ]
  },
  {
   "cell_type": "code",
   "execution_count": 34,
   "metadata": {
    "collapsed": true
   },
   "outputs": [],
   "source": [
    "import ast\n",
    "import ipytest\n",
    "from IPython.core.magic import (register_line_magic, register_cell_magic,\n",
    "                                register_line_cell_magic)\n",
    "import sys\n",
    "\n",
    "__file__ = 'pytest.ipynb'\n",
    "\n",
    "def run(source):\n",
    "    ipytest.clean_tests('test_*')\n",
    "    node = ast.parse(source, __file__, 'exec')\n",
    "    mod = sys.modules['__main__']\n",
    "    exec(compile(node, '__main__', 'exec'),\n",
    "                 mod.__dict__)\n",
    "    ipytest.run_pytest(pytest_options=['-q'])\n",
    "    \n",
    "@register_cell_magic\n",
    "def run_pytest(line, cell):\n",
    "    \"run tests defined in a cell with pytest\"\n",
    "    run(cell)\n",
    "    # return line, cell"
   ]
  },
  {
   "cell_type": "markdown",
   "metadata": {
    "slideshow": {
     "slide_type": "skip"
    }
   },
   "source": [
    "# Autodiscovery\n",
    "## Conventions for Python test discovery\n",
    "pytest implements the following standard test discovery:\n",
    "\n",
    "If no arguments are specified then collection starts from testpaths (if configured) or the current directory. Alternatively, command line arguments can be used in any combination of directories, file names or node ids.\n",
    "Recurse into directories, unless they match norecursedirs.\n",
    "In those directories, search for test_*.py or *_test.py files, imported by their test package name.\n",
    "From those files, collect test items:\n",
    "test_ prefixed test functions or methods outside of class\n",
    "test_ prefixed test functions or methods inside Test prefixed test classes (without an __init__ method)"
   ]
  },
  {
   "cell_type": "code",
   "execution_count": 35,
   "metadata": {
    "collapsed": false,
    "slideshow": {
     "slide_type": "slide"
    }
   },
   "outputs": [
    {
     "name": "stdout",
     "output_type": "stream",
     "text": [
      "F.\n",
      "============================================================== FAILURES ==============================================================\n",
      "______________________________________________________________ test_foo ______________________________________________________________\n",
      "\n",
      ">   ???\n",
      "E   AssertionError\n",
      "\n",
      "fnord:3: AssertionError\n",
      "1 failed, 1 passed in 0.12 seconds\n"
     ]
    }
   ],
   "source": [
    "%%run_pytest\n",
    "\n",
    "def test_foo():\n",
    "    assert True == False\n",
    "    \n",
    "def test_llamas():\n",
    "    assert 1 == 1"
   ]
  },
  {
   "cell_type": "markdown",
   "metadata": {},
   "source": [
    "**TODO** Need to figure out how to run pytest stuff in jupyter"
   ]
  }
 ],
 "metadata": {
  "celltoolbar": "Slideshow",
  "kernelspec": {
   "display_name": "Python 3",
   "language": "python",
   "name": "python3"
  },
  "language_info": {
   "codemirror_mode": {
    "name": "ipython",
    "version": 3
   },
   "file_extension": ".py",
   "mimetype": "text/x-python",
   "name": "python",
   "nbconvert_exporter": "python",
   "pygments_lexer": "ipython3",
   "version": "3.5.2"
  }
 },
 "nbformat": 4,
 "nbformat_minor": 2
}
