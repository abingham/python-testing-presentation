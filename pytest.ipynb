{
 "cells": [
  {
   "cell_type": "code",
   "execution_count": 5,
   "metadata": {
    "collapsed": false,
    "slideshow": {
     "slide_type": "slide"
    }
   },
   "outputs": [
    {
     "data": {
      "text/html": [
       "<link rel=\"stylesheet\" type=\"text/css\" href=\"sixty_north.css\">"
      ],
      "text/plain": [
       "<IPython.core.display.HTML object>"
      ]
     },
     "metadata": {},
     "output_type": "display_data"
    }
   ],
   "source": [
    "%%html\n",
    "<link rel=\"stylesheet\" type=\"text/css\" href=\"sixty_north.css\">"
   ]
  },
  {
   "cell_type": "markdown",
   "metadata": {
    "slideshow": {
     "slide_type": "slide"
    }
   },
   "source": [
    "# `pytest`\n",
    "## A powerful unittesting framework\n",
    "\n",
    "[Project homepage](https://pytest.org)"
   ]
  },
  {
   "cell_type": "code",
   "execution_count": 6,
   "metadata": {
    "collapsed": true,
    "slideshow": {
     "slide_type": "slide"
    }
   },
   "outputs": [],
   "source": [
    "__file__ = 'pytest.ipynb'\n",
    "import ipytest.magics\n",
    "import pytest"
   ]
  },
  {
   "cell_type": "markdown",
   "metadata": {
    "slideshow": {
     "slide_type": "slide"
    }
   },
   "source": [
    "# Test functions start with `test`\n",
    "## `pytest` is lower ceremony than `unittest`"
   ]
  },
  {
   "cell_type": "code",
   "execution_count": 8,
   "metadata": {
    "collapsed": false,
    "slideshow": {
     "slide_type": "-"
    }
   },
   "outputs": [
    {
     "name": "stdout",
     "output_type": "stream",
     "text": [
      ".\n",
      "1 passed, 1 pytest-warnings in 0.01 seconds\n"
     ]
    }
   ],
   "source": [
    "%%run_pytest[clean] -q --disable-pytest-warnings\n",
    "\n",
    "def square(x):\n",
    "    return x * x\n",
    "\n",
    "def test_square():\n",
    "    assert square(3) == 3 * 3"
   ]
  },
  {
   "cell_type": "markdown",
   "metadata": {
    "slideshow": {
     "slide_type": "slide"
    }
   },
   "source": [
    "# Test conditions using normal `assert`\n",
    "## `pytest` has smart handling for assertions"
   ]
  },
  {
   "cell_type": "markdown",
   "metadata": {
    "slideshow": {
     "slide_type": "subslide"
    }
   },
   "source": [
    "**It can interpolate values into the output**"
   ]
  },
  {
   "cell_type": "markdown",
   "metadata": {
    "collapsed": false,
    "slideshow": {
     "slide_type": "-"
    }
   },
   "source": [
    "```python\n",
    "def test_replacement():\n",
    "    x = 42\n",
    "    y = 1337\n",
    "    assert x > y\n",
    " ```"
   ]
  },
  {
   "cell_type": "markdown",
   "metadata": {
    "slideshow": {
     "slide_type": "-"
    }
   },
   "source": [
    "```shell\n",
    "F\n",
    "======================================= FAILURES =======================================\n",
    "___________________________________ test_replacement ___________________________________\n",
    "    def test_replacement():\n",
    "        x = 42\n",
    "        y = 1337\n",
    ">       assert x > y\n",
    "E       assert 42 > 1337\n",
    "\n",
    "pytests.py:4: AssertionError\n",
    "```"
   ]
  },
  {
   "cell_type": "markdown",
   "metadata": {
    "slideshow": {
     "slide_type": "subslide"
    }
   },
   "source": [
    "**It can identify the specific differences between strings**"
   ]
  },
  {
   "cell_type": "markdown",
   "metadata": {
    "collapsed": true,
    "slideshow": {
     "slide_type": "-"
    }
   },
   "source": [
    "```python\n",
    "def test_monkeys():\n",
    "    assert \"It was the worst of times\" == \"It was the blurst of times\"\n",
    "```"
   ]
  },
  {
   "cell_type": "markdown",
   "metadata": {},
   "source": [
    "```shell\n",
    "F\n",
    "======================================= FAILURES =======================================\n",
    "_____________________________________ test_monkeys _____________________________________\n",
    "\n",
    "    def test_monkeys():\n",
    ">       assert \"It was the worst of times\" == \"It was the blurst of times\"\n",
    "E       assert 'It was the worst of times' == 'It was the blurst of times'\n",
    "E         - It was the worst of times\n",
    "E         ?            ^^\n",
    "E         + It was the blurst of times\n",
    "E         ?            ^^^\n",
    "\n",
    "pytests.py:2: AssertionError\n",
    "```"
   ]
  },
  {
   "cell_type": "code",
   "execution_count": 9,
   "metadata": {
    "collapsed": true,
    "slideshow": {
     "slide_type": "subslide"
    }
   },
   "outputs": [],
   "source": [
    "def test_list_comparison():\n",
    "    assert [1, 2, 3] == [1, 2]"
   ]
  },
  {
   "cell_type": "markdown",
   "metadata": {},
   "source": [
    "```shell\n",
    "F\n",
    "======================================= FAILURES =======================================\n",
    "_________________________________ test_list_comparison _________________________________\n",
    "\n",
    "    def test_list_comparison():\n",
    ">       assert [1, 2, 3] == [1, 2]\n",
    "E       assert [1, 2, 3] == [1, 2]\n",
    "E         Left contains more items, first extra item: 3\n",
    "E         Full diff:\n",
    "E         - [1, 2, 3]\n",
    "E         ?      ---\n",
    "E         + [1, 2]\n",
    "\n",
    "pytests.py:2: AssertionError\n",
    "```"
   ]
  },
  {
   "cell_type": "markdown",
   "metadata": {
    "slideshow": {
     "slide_type": "slide"
    }
   },
   "source": [
    "# Testing for exceptions\n",
    "## Use the `pytest.raises` context manager"
   ]
  },
  {
   "cell_type": "markdown",
   "metadata": {
    "slideshow": {
     "slide_type": "subslide"
    }
   },
   "source": [
    "**Basic usage just checks for an exception**"
   ]
  },
  {
   "cell_type": "code",
   "execution_count": 14,
   "metadata": {
    "collapsed": false,
    "slideshow": {
     "slide_type": "-"
    }
   },
   "outputs": [
    {
     "name": "stdout",
     "output_type": "stream",
     "text": [
      ".\n",
      "1 passed, 1 pytest-warnings in 0.01 seconds\n"
     ]
    }
   ],
   "source": [
    "%%run_pytest[clean] -q --disable-pytest-warnings\n",
    "\n",
    "def test_exception():\n",
    "    with pytest.raises(KeyError):\n",
    "        x = {1: 2}\n",
    "        y = x[4]"
   ]
  },
  {
   "cell_type": "markdown",
   "metadata": {
    "slideshow": {
     "slide_type": "subslide"
    }
   },
   "source": [
    "**Use `as` to capture a reference to the exception info**"
   ]
  },
  {
   "cell_type": "code",
   "execution_count": 17,
   "metadata": {
    "collapsed": false,
    "slideshow": {
     "slide_type": "-"
    }
   },
   "outputs": [
    {
     "name": "stdout",
     "output_type": "stream",
     "text": [
      ".\n",
      "1 passed, 1 pytest-warnings in 0.01 seconds\n"
     ]
    }
   ],
   "source": [
    "%%run_pytest[clean] -q --disable-pytest-warnings\n",
    "\n",
    "def test_exception_with_capture():\n",
    "    with pytest.raises(KeyError) as exc_info:\n",
    "        raise KeyError('no such key')\n",
    "    assert exc_info.value.args[0] == 'no such key'"
   ]
  },
  {
   "cell_type": "markdown",
   "metadata": {
    "slideshow": {
     "slide_type": "slide"
    }
   },
   "source": [
    "# Fixtures\n",
    "## \"explicit, modular, scalable\"\n",
    "\n",
    "Fixtures allow you to provide context and data to tests."
   ]
  },
  {
   "cell_type": "markdown",
   "metadata": {
    "slideshow": {
     "slide_type": "subslide"
    }
   },
   "source": [
    "Basic fixture: define function with `pytest.fixture` decorator; reference that name in test function parameter."
   ]
  },
  {
   "cell_type": "markdown",
   "metadata": {
    "slideshow": {
     "slide_type": "subslide"
    }
   },
   "source": [
    "Example: tempfile"
   ]
  },
  {
   "cell_type": "markdown",
   "metadata": {
    "slideshow": {
     "slide_type": "subslide"
    }
   },
   "source": [
    "Setup/teardown in fixtures using `yield` instead of `return`"
   ]
  },
  {
   "cell_type": "markdown",
   "metadata": {
    "slideshow": {
     "slide_type": "subslide"
    }
   },
   "source": [
    "module-scope fixtures using the `scope='module'` function. Pass `scope='session'` for full-session scoping"
   ]
  },
  {
   "cell_type": "markdown",
   "metadata": {
    "slideshow": {
     "slide_type": "subslide"
    }
   },
   "source": [
    "Parameterized fixtures by passing `params=[..., ...]` to the `pytest.fixture` and using `request` parameter"
   ]
  },
  {
   "cell_type": "markdown",
   "metadata": {
    "slideshow": {
     "slide_type": "slide"
    }
   },
   "source": [
    "# Simplified test discovery\n",
    "\n",
    " * If no arguments are specified then collection starts from testpaths (if configured) or the current directory. \n",
    " * Alternatively, command line arguments can be used in any combination of directories, file names or node ids.\n",
    " * Recurse into directories, unless they match norecursedirs.\n",
    " * In those directories, search for test_*.py or *_test.py files, imported by their test package name.\n",
    " * From those files, collect test items:\n",
    "  * test_ prefixed test functions or methods outside of class\n",
    "  * test_ prefixed test functions or methods inside Test prefixed test classes (without an __init__ method)"
   ]
  },
  {
   "cell_type": "markdown",
   "metadata": {
    "slideshow": {
     "slide_type": "slide"
    }
   },
   "source": [
    "# Configuration"
   ]
  },
  {
   "cell_type": "markdown",
   "metadata": {
    "slideshow": {
     "slide_type": "slide"
    }
   },
   "source": [
    "# Other stuff\n",
    "\n",
    " * plugins\n",
    " * Persistent data across tests\n",
    " * run unittest and nose tests"
   ]
  }
 ],
 "metadata": {
  "celltoolbar": "Slideshow",
  "kernelspec": {
   "display_name": "Python 3",
   "language": "python",
   "name": "python3"
  },
  "language_info": {
   "codemirror_mode": {
    "name": "ipython",
    "version": 3
   },
   "file_extension": ".py",
   "mimetype": "text/x-python",
   "name": "python",
   "nbconvert_exporter": "python",
   "pygments_lexer": "ipython3",
   "version": "3.5.0"
  },
  "livereveal": {
   "start_slideshow_at": "selected",
   "theme": "simple",
   "transition": "slide"
  }
 },
 "nbformat": 4,
 "nbformat_minor": 2
}
